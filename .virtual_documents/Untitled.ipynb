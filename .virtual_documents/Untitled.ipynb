from pycoingecko import CoinGeckoAPI
from pandas import DataFrame
cg = CoinGeckoAPI()


prices = cg.get_price(ids=['rosen-bridge', 'ergo', 'spectrum-finance'], vs_currencies='usd')


df = DataFrame(prices)
df


df.to_csv('price_data.csv'_



