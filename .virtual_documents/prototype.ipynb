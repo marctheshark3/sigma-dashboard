from utils.reader import SigmaWalletReader


reader = SigmaWalletReader(config_path="../conf")


data = reader.get_api_data('http://15.204.211.130:4000/api/pools/ErgoSigmanauts/miners/')
data


miner_ls = []
for sample in data:
    miner_ls.append(sample['miner'])


miner_ls


miners = {}
for sample in data:
    miners[sample['miner']] = 0
for key in miners.keys():
    url = '{}/{}'.format('http://15.204.211.130:4000/api/pools/ErgoSigmanauts/miners', key)
    sample = reader.get_api_data(url)
    miners[key] = sample['pendingShares']
miners


# Total of all values
total = sum(miners.values())

# Assume a reward variable, say 10000 for this example
reward = 30

# Calculate the percentage for each key based on its value and then determine the reward based on this percentage
rewards = {key: (value / total) * reward for key, value in miners.items()}

rewards


import pandas as pd
rewards_df = pd.DataFrame(list(rewards.items()), columns=['miner', 'reward'])
rewards_df


url = 'http://15.204.211.130:4000/api/pools/ErgoSigmanauts/miners/9ehJZvPDgvCNNd2zTQHxnSpcCAtb1kHbEN1VAgeoRD5DPVApYkk'
data = reader.get_api_data(url)
samples = data['performanceSamples']
samples


df = reader.get_miner_samples(wallet='9ehJZvPDgvCNNd2zTQHxnSpcCAtb1kHbEN1VAgeoRD5DPVApYkk')


df.empty


d = {'a': [1], 
     'b': [2]}
pd.DataFrame.from_dict(d)


import plotly.express as px

fig = px.line(df, x='created', y='hashrate', color='worker', title='Hashrate Over Time for Each Worker')
fig.show()



import numpy as np
import matplotlib.pyplot as plt

import random

def generate_random_variable_list(n):
    random_variable_list = []
    for i in range(n):
        random_variable = random.uniform(0.001, 5)
        random_variable_list.append(random_variable)
    return random_variable_list

n = 10 # number of random variables
y = generate_random_variable_list(n)

x = [*range(0, n)]

df = pd.DataFrame({'x': x, 'y':y})
df['z'] = df['y'].expanding().mean()


plt.plot(df['x'], df['y'], label='y')
plt.plot(df['x'], df['z'], label='z')
plt.xlabel('x')
plt.ylabel('y and z')
plt.title('Plotting y and z over x')
plt.legend()
plt.show()


df


df


n = df.melt(id_vars=['x'])
n


random.randrange(0,5)


url ='http://15.204.211.130:4000/api/pools/ErgoSigmanauts'

pool = reader.get_api_data(url)['pool']
pool.keys()


pool['poolEffort']


payment_data = pool['paymentProcessing']
del payment_data['enabled']
del payment_data['payoutSchemeConfig']
del payment_data['extra']


payment_data


port_data = pool['ports']

ls = []
for port in port_data:
    temp = port_data[port]
    if 'pikes_peak' in temp['name']:
        high_or_low = 'Greater Than 10GH/s'
    else:
        high_or_low = 'Lower Than 10GH/s'
    ls.append([temp['name'], port, high_or_low, temp['tls']])
df = pd.DataFrame(ls, columns=['Name', 'Port', 'Hashrate Threshold', 'TLS'])
df


pool_fee = pool['poolFeePercent']
pool_stats = pool['poolStats']
net_stats = pool['networkStats']
total_paid = pool['totalPaid']
total_blocks = pool['totalBlocks']
last_block_found = pool['lastPoolBlockTime']
pool_effort = pool['poolEffort']


net_stats
del net_stats['connectedPeers']
del net_stats['rewardType']
del net_stats['networkType']


pool_stats


import dash


data = reader.get_front_page_data()


data['poolHashrate'] = data['poolHashrate'] / 1e9 #GIGA
data['poolHashrate'] 


data


last_block_found


df = reader.get_all_miner_data('9ehJZvPDgvCNNd2zTQHxnSpcCAtb1kHbEN1VAgeoRD5DPVApYkk')
df


df[df.wallet == '9ehJZvPDgvCNNd2zTQHxnSpcCAtb1kHbEN1VAgeoRD5DPVApYkk']


from datetime import datetime
import pytz

def calculate_mining_effort(network_difficulty, network_hashrate, pool_hashrate, last_block_timestamp):
    """
    Calculate the mining effort for the pool to find a block on Ergo blockchain based on the given timestamp.
    
    :param network_difficulty: The current difficulty of the Ergo network.
    :param network_hashrate: The total hash rate of the Ergo network (in hashes per second).
    :param pool_hashrate: The hash rate of the mining pool (in hashes per second).
    :param last_block_timestamp: Timestamp of the last block found in ISO 8601 format.
    :return: The estimated mining effort for the pool.
    """
    # Parse the last block timestamp
    time_format = '%Y-%m-%d %H:%M:%S' 
    last_block_time = datetime.strptime(last_block_timestamp, time_format)
    last_block_time = last_block_time.replace(tzinfo=pytz.utc)  # Assume the timestamp is in UTC
    
    # Get the current time in UTC
    now = datetime.now(pytz.utc)
    
    # Calculate the time difference in seconds
    time_since_last_block = (now - last_block_time).total_seconds()
    
    # Hashes to find a block at current difficulty
    hashes_to_find_block = network_difficulty  # This is a simplification
    
    # Total hashes by the network in the time since last block
    total_network_hashes = network_hashrate * time_since_last_block
    
    # Pool's share of the total network hashes
    pool_share_of_hashes = (pool_hashrate / network_hashrate) * total_network_hashes
    
    # Effort is the pool's share of hashes divided by the number of hashes to find a block
    effort = pool_share_of_hashes / hashes_to_find_block
    
    return effort

# Example usage:
network_difficulty = 1.73e15  # Example difficulty
network_hashrate = 14e15  # Example total network hash rate (1 PH/s)
pool_hashrate = 13e9  # Example pool hash rate (100 TH/s)
last_block_timestamp = "2024-03-19 04:19:20"

effort = calculate_mining_effort(network_difficulty, network_hashrate, pool_hashrate, last_block_timestamp)
print(f"The estimated mining effort for the pool since the last block is: {effort}")


from datetime import datetime

date_time_str = '2024-03-19 04:19:20'
format = '%Y-%m-%d %H:%M:%S'  # Added a space between '%d' and '%H'
date_time_obj = datetime.strptime(date_time_str, format)

print(date_time_obj)


miners = reader.get_miner_ls()
data = []
for miner in miners:
    temp = reader.get_miner_samples(miner)
    data.append(temp)

df = pd.concat(data)


ls = []
for date in df.created.unique():
    temp = df[df.created == date]
    ls.append([date, temp.hashrate.sum()])

n = pd.DataFrame(ls, columns=['Date', 'Hashrate'])


n



