from utils.reader import SigmaWalletReader


reader = SigmaWalletReader(config_path="../conf")


data = reader.get_api_data('http://15.204.211.130:4000/api/pools/ErgoSigmanauts/miners/')
data


miners = {}
for sample in data:
    miners[sample['miner']] = 0
for key in miners.keys():
    url = '{}/{}'.format('http://15.204.211.130:4000/api/pools/ErgoSigmanauts/miners', key)
    sample = reader.get_api_data(url)
    miners[key] = sample['pendingShares']
miners


# Total of all values
total = sum(miners.values())

# Assume a reward variable, say 10000 for this example
reward = 30

# Calculate the percentage for each key based on its value and then determine the reward based on this percentage
rewards = {key: (value / total) * reward for key, value in miners.items()}

rewards


import pandas as pd
rewards_df = pd.DataFrame(list(rewards.items()), columns=['miner', 'reward'])
rewards_df



