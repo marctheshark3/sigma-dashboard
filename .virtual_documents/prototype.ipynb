from utils.reader import SigmaWalletReader


reader = SigmaWalletReader(config_path="../conf")


data = reader.get_api_data('http://15.204.211.130:4000/api/pools/ErgoSigmanauts/miners/')
data


miners = {}
for sample in data:
    miners[sample['miner']] = 0
for key in miners.keys():
    url = '{}/{}'.format('http://15.204.211.130:4000/api/pools/ErgoSigmanauts/miners', key)
    sample = reader.get_api_data(url)
    miners[key] = sample['pendingShares']
miners


# Total of all values
total = sum(miners.values())

# Assume a reward variable, say 10000 for this example
reward = 30

# Calculate the percentage for each key based on its value and then determine the reward based on this percentage
rewards = {key: (value / total) * reward for key, value in miners.items()}

rewards


import pandas as pd
rewards_df = pd.DataFrame(list(rewards.items()), columns=['miner', 'reward'])
rewards_df


url = 'http://15.204.211.130:4000/api/pools/ErgoSigmanauts/miners/9ehJZvPDgvCNNd2zTQHxnSpcCAtb1kHbEN1VAgeoRD5DPVApYkk'
data = reader.get_api_data(url)
samples = data['performanceSamples']
samples


df = reader.get_miner_samples(wallet='9ehJZvPDgvCNNd2zTQHxnSpcCAtb1kHbEN1VAgeoRD5DPVApYkk')


df.empty


d = {'a': [1], 
     'b': [2]}
pd.DataFrame.from_dict(d)


import plotly.express as px

fig = px.line(df, x='created', y='hashrate', color='worker', title='Hashrate Over Time for Each Worker')
fig.show()



import numpy as np
import matplotlib.pyplot as plt

import random

def generate_random_variable_list(n):
    random_variable_list = []
    for i in range(n):
        random_variable = random.uniform(0.001, 5)
        random_variable_list.append(random_variable)
    return random_variable_list

n = 10 # number of random variables
y = generate_random_variable_list(n)

x = [*range(0, n)]

df = pd.DataFrame({'x': x, 'y':y})
df['z'] = df['y'].cumsum() / df['y'].expanding().count()


plt.plot(df['x'], df['y'], label='y')
plt.plot(df['x'], df['z'], label='z')
plt.xlabel('x')
plt.ylabel('y and z')
plt.title('Plotting y and z over x')
plt.legend()
plt.show()


random.randrange(0,5)






