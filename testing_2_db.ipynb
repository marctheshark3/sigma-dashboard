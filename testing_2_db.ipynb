{
 "cells": [
  {
   "cell_type": "code",
   "execution_count": 1,
   "id": "96944386-e139-4ef4-9d86-26463244ff6f",
   "metadata": {},
   "outputs": [],
   "source": [
    "from utils.api_2_db import DataSyncer\n",
    "import pandas as pd\n",
    "from utils.update_blocks_and_workers import update_blocks_and_live_workers\n",
    "from utils.update_payment_and_performance import update_payment_and_performance\n",
    "from utils.update_pool_stats import update_pool_stats\n",
    "from utils.init_db import init_db"
   ]
  },
  {
   "cell_type": "code",
   "execution_count": 2,
   "id": "11604c9d-4ef6-48da-939f-fac113478414",
   "metadata": {},
   "outputs": [],
   "source": [
    "db_sync = DataSyncer(config_path=\"../conf\")\n",
    "miner = '9ehJZvPDgvCNNd2zTQHxnSpcCAtb1kHbEN1VAgeoRD5DPVApYkk'"
   ]
  },
  {
   "cell_type": "code",
   "execution_count": 3,
   "id": "4994b7a3-98ce-48ba-9635-3850b2a6f9fd",
   "metadata": {},
   "outputs": [
    {
     "name": "stdout",
     "output_type": "stream",
     "text": [
      "Batch 1/1: Deleted up to 10 rows from stats\n",
      "Batch 1/1: Deleted up to 10000 rows from block\n",
      "Batch 1/1: Deleted up to 10000 rows from payment\n",
      "Batch 1/1: Deleted up to 10000 rows from live_worker\n",
      "Batch 1/1: Deleted up to 10000 rows from performance\n"
     ]
    },
    {
     "data": {
      "text/plain": [
       "True"
      ]
     },
     "execution_count": 3,
     "metadata": {},
     "output_type": "execute_result"
    }
   ],
   "source": [
    "db_sync.__delete_table__()"
   ]
  },
  {
   "cell_type": "code",
   "execution_count": 4,
   "id": "7fd703d1-62a2-4def-a041-09dad714ab9e",
   "metadata": {},
   "outputs": [
    {
     "name": "stdout",
     "output_type": "stream",
     "text": [
      "UPDATED STATS TABLE SUCCESFULLY\n"
     ]
    },
    {
     "name": "stderr",
     "output_type": "stream",
     "text": [
      "/home/whaleshark/Documents/sigmanaut-mining-pool-ui/utils/db_util.py:180: UserWarning: pandas only supports SQLAlchemy connectable (engine/connection) or database string URI or sqlite3 DBAPI2 connection. Other DBAPI2 objects are not tested. Please consider using SQLAlchemy.\n",
      "  return pd.read_sql_query(query, self.conn)\n"
     ]
    },
    {
     "name": "stdout",
     "output_type": "stream",
     "text": [
      "UPDATED BLOCK TABLE SUCCESFULLY\n",
      "Index(['fee', 'paid', 'blocks', 'last_block_found', 'enabled',\n",
      "       'minimumpayment', 'payoutscheme', 'connectedminers', 'poolhashrate',\n",
      "       'sharespersecond', 'networktype', 'networkhashrate',\n",
      "       'networkdifficulty', 'lastnetworkblocktime', 'blockheight',\n",
      "       'connectedpeers', 'rewardtype', 'pooleffort', 'poolttf', 'price',\n",
      "       'insert_time_stamp'],\n",
      "      dtype='object')\n",
      "no live data for miner 9htjnnmFbPKAM86zHtANqxfyZQomqMpvvY5jp3C4mcfWjuahaFN\n",
      "no live data for miner 9eYXGx2AzwzbgThF7sU2JKspqUbhr5nMgnVNokNSWx7SFYYbvvV\n",
      "no live data for miner 9g4f585vPtgA5PKhSRcaPBhtfW3HYRw2qe3aemxxnD5Y1KiopyX\n",
      "no live data for miner 9hNJcmkKcMmrphpc12deJJi6gNcgiX269VEEZCCgLVBPiETigVb\n",
      "no live data for miner 9fGzn8VCszvFMXo2KDrQiVowwSdchVT13ygX26RKUfkjcruRq7J\n",
      "no live data for miner 9iQS22vfWdF2N84Lvv9jgAMFGLyL7t17SWbHGEfaddaG7ZbL3fJ\n",
      "no live data for miner 9iHhp79F5CXRq3DYS4urz8q4aDyLAx1L5d6cyucrh9gPqDepj17\n",
      "UPDATED LIVE WORK, PERFORMANCE, AND PAYMENT TABLES SUCCESFULLY\n"
     ]
    }
   ],
   "source": [
    "init_db()"
   ]
  },
  {
   "cell_type": "code",
   "execution_count": 5,
   "id": "b586b668-4840-46f4-b2c6-d169ecf87f16",
   "metadata": {},
   "outputs": [
    {
     "name": "stdout",
     "output_type": "stream",
     "text": [
      "UPDATED BLOCK TABLE SUCCESFULLY\n",
      "Batch 1/1: Deleted up to 10000 rows from live_worker\n"
     ]
    },
    {
     "name": "stderr",
     "output_type": "stream",
     "text": [
      "/home/whaleshark/Documents/sigmanaut-mining-pool-ui/utils/db_util.py:180: UserWarning: pandas only supports SQLAlchemy connectable (engine/connection) or database string URI or sqlite3 DBAPI2 connection. Other DBAPI2 objects are not tested. Please consider using SQLAlchemy.\n",
      "  return pd.read_sql_query(query, self.conn)\n"
     ]
    },
    {
     "name": "stdout",
     "output_type": "stream",
     "text": [
      "Index(['fee', 'paid', 'blocks', 'last_block_found', 'enabled',\n",
      "       'minimumpayment', 'payoutscheme', 'connectedminers', 'poolhashrate',\n",
      "       'sharespersecond', 'networktype', 'networkhashrate',\n",
      "       'networkdifficulty', 'lastnetworkblocktime', 'blockheight',\n",
      "       'connectedpeers', 'rewardtype', 'pooleffort', 'poolttf', 'price',\n",
      "       'insert_time_stamp'],\n",
      "      dtype='object')\n",
      "no live data for miner 9htjnnmFbPKAM86zHtANqxfyZQomqMpvvY5jp3C4mcfWjuahaFN\n",
      "no live data for miner 9eYXGx2AzwzbgThF7sU2JKspqUbhr5nMgnVNokNSWx7SFYYbvvV\n",
      "no live data for miner 9g4f585vPtgA5PKhSRcaPBhtfW3HYRw2qe3aemxxnD5Y1KiopyX\n",
      "no live data for miner 9hNJcmkKcMmrphpc12deJJi6gNcgiX269VEEZCCgLVBPiETigVb\n",
      "no live data for miner 9fGzn8VCszvFMXo2KDrQiVowwSdchVT13ygX26RKUfkjcruRq7J\n",
      "no live data for miner 9iQS22vfWdF2N84Lvv9jgAMFGLyL7t17SWbHGEfaddaG7ZbL3fJ\n",
      "no live data for miner 9iHhp79F5CXRq3DYS4urz8q4aDyLAx1L5d6cyucrh9gPqDepj17\n",
      "UPDATED LIVE WORK, PERFORMANCE, AND PAYMENT TABLES SUCCESFULLY\n"
     ]
    }
   ],
   "source": [
    "update_blocks_and_live_workers()"
   ]
  },
  {
   "cell_type": "code",
   "execution_count": 6,
   "id": "4bae6d28-ddd3-4b9e-9d34-34eeff29e80b",
   "metadata": {},
   "outputs": [
    {
     "name": "stderr",
     "output_type": "stream",
     "text": [
      "/home/whaleshark/Documents/sigmanaut-mining-pool-ui/utils/db_util.py:180: UserWarning: pandas only supports SQLAlchemy connectable (engine/connection) or database string URI or sqlite3 DBAPI2 connection. Other DBAPI2 objects are not tested. Please consider using SQLAlchemy.\n",
      "  return pd.read_sql_query(query, self.conn)\n"
     ]
    },
    {
     "data": {
      "text/html": [
       "<div>\n",
       "<style scoped>\n",
       "    .dataframe tbody tr th:only-of-type {\n",
       "        vertical-align: middle;\n",
       "    }\n",
       "\n",
       "    .dataframe tbody tr th {\n",
       "        vertical-align: top;\n",
       "    }\n",
       "\n",
       "    .dataframe thead th {\n",
       "        text-align: right;\n",
       "    }\n",
       "</style>\n",
       "<table border=\"1\" class=\"dataframe\">\n",
       "  <thead>\n",
       "    <tr style=\"text-align: right;\">\n",
       "      <th></th>\n",
       "      <th>worker</th>\n",
       "      <th>hashrate</th>\n",
       "      <th>shares_per_second</th>\n",
       "      <th>created</th>\n",
       "      <th>miner</th>\n",
       "    </tr>\n",
       "  </thead>\n",
       "  <tbody>\n",
       "    <tr>\n",
       "      <th>0</th>\n",
       "      <td>Rig-01</td>\n",
       "      <td>1741.95</td>\n",
       "      <td>0.07</td>\n",
       "      <td>2024-05-01 17:00:00</td>\n",
       "      <td>9f3FRr4XudxVs1V35At1X5yj7LmQmnWqG46LqFKVNRf2Tu...</td>\n",
       "    </tr>\n",
       "    <tr>\n",
       "      <th>1</th>\n",
       "      <td>Rig-02</td>\n",
       "      <td>1634.19</td>\n",
       "      <td>0.08</td>\n",
       "      <td>2024-05-01 17:00:00</td>\n",
       "      <td>9f3FRr4XudxVs1V35At1X5yj7LmQmnWqG46LqFKVNRf2Tu...</td>\n",
       "    </tr>\n",
       "    <tr>\n",
       "      <th>2</th>\n",
       "      <td>Rig_03</td>\n",
       "      <td>1061.84</td>\n",
       "      <td>0.07</td>\n",
       "      <td>2024-05-01 17:00:00</td>\n",
       "      <td>9f3FRr4XudxVs1V35At1X5yj7LmQmnWqG46LqFKVNRf2Tu...</td>\n",
       "    </tr>\n",
       "    <tr>\n",
       "      <th>3</th>\n",
       "      <td>totals</td>\n",
       "      <td>4437.98</td>\n",
       "      <td>0.22</td>\n",
       "      <td>2024-05-01 17:00:00</td>\n",
       "      <td>9f3FRr4XudxVs1V35At1X5yj7LmQmnWqG46LqFKVNRf2Tu...</td>\n",
       "    </tr>\n",
       "    <tr>\n",
       "      <th>4</th>\n",
       "      <td>Rig-01</td>\n",
       "      <td>1790.87</td>\n",
       "      <td>0.07</td>\n",
       "      <td>2024-05-01 18:00:00</td>\n",
       "      <td>9f3FRr4XudxVs1V35At1X5yj7LmQmnWqG46LqFKVNRf2Tu...</td>\n",
       "    </tr>\n",
       "    <tr>\n",
       "      <th>...</th>\n",
       "      <td>...</td>\n",
       "      <td>...</td>\n",
       "      <td>...</td>\n",
       "      <td>...</td>\n",
       "      <td>...</td>\n",
       "    </tr>\n",
       "    <tr>\n",
       "      <th>2730</th>\n",
       "      <td>totals</td>\n",
       "      <td>44.61</td>\n",
       "      <td>0.01</td>\n",
       "      <td>2024-05-02 16:00:00</td>\n",
       "      <td>9gyKCPYkaBJp7z8NxxCygjwB6u9GLudiakUEUPpZ1bjhbJ...</td>\n",
       "    </tr>\n",
       "    <tr>\n",
       "      <th>2731</th>\n",
       "      <td>3070</td>\n",
       "      <td>55.58</td>\n",
       "      <td>0.01</td>\n",
       "      <td>2024-05-02 06:00:00</td>\n",
       "      <td>9iHhp79F5CXRq3DYS4urz8q4aDyLAx1L5d6cyucrh9gPqD...</td>\n",
       "    </tr>\n",
       "    <tr>\n",
       "      <th>2732</th>\n",
       "      <td>totals</td>\n",
       "      <td>55.58</td>\n",
       "      <td>0.01</td>\n",
       "      <td>2024-05-02 06:00:00</td>\n",
       "      <td>9iHhp79F5CXRq3DYS4urz8q4aDyLAx1L5d6cyucrh9gPqD...</td>\n",
       "    </tr>\n",
       "    <tr>\n",
       "      <th>2733</th>\n",
       "      <td>3070</td>\n",
       "      <td>16.46</td>\n",
       "      <td>0.00</td>\n",
       "      <td>2024-05-02 07:00:00</td>\n",
       "      <td>9iHhp79F5CXRq3DYS4urz8q4aDyLAx1L5d6cyucrh9gPqD...</td>\n",
       "    </tr>\n",
       "    <tr>\n",
       "      <th>2734</th>\n",
       "      <td>totals</td>\n",
       "      <td>16.46</td>\n",
       "      <td>0.00</td>\n",
       "      <td>2024-05-02 07:00:00</td>\n",
       "      <td>9iHhp79F5CXRq3DYS4urz8q4aDyLAx1L5d6cyucrh9gPqD...</td>\n",
       "    </tr>\n",
       "  </tbody>\n",
       "</table>\n",
       "<p>2735 rows × 5 columns</p>\n",
       "</div>"
      ],
      "text/plain": [
       "      worker  hashrate  shares_per_second             created  \\\n",
       "0     Rig-01   1741.95               0.07 2024-05-01 17:00:00   \n",
       "1     Rig-02   1634.19               0.08 2024-05-01 17:00:00   \n",
       "2     Rig_03   1061.84               0.07 2024-05-01 17:00:00   \n",
       "3     totals   4437.98               0.22 2024-05-01 17:00:00   \n",
       "4     Rig-01   1790.87               0.07 2024-05-01 18:00:00   \n",
       "...      ...       ...                ...                 ...   \n",
       "2730  totals     44.61               0.01 2024-05-02 16:00:00   \n",
       "2731    3070     55.58               0.01 2024-05-02 06:00:00   \n",
       "2732  totals     55.58               0.01 2024-05-02 06:00:00   \n",
       "2733    3070     16.46               0.00 2024-05-02 07:00:00   \n",
       "2734  totals     16.46               0.00 2024-05-02 07:00:00   \n",
       "\n",
       "                                                  miner  \n",
       "0     9f3FRr4XudxVs1V35At1X5yj7LmQmnWqG46LqFKVNRf2Tu...  \n",
       "1     9f3FRr4XudxVs1V35At1X5yj7LmQmnWqG46LqFKVNRf2Tu...  \n",
       "2     9f3FRr4XudxVs1V35At1X5yj7LmQmnWqG46LqFKVNRf2Tu...  \n",
       "3     9f3FRr4XudxVs1V35At1X5yj7LmQmnWqG46LqFKVNRf2Tu...  \n",
       "4     9f3FRr4XudxVs1V35At1X5yj7LmQmnWqG46LqFKVNRf2Tu...  \n",
       "...                                                 ...  \n",
       "2730  9gyKCPYkaBJp7z8NxxCygjwB6u9GLudiakUEUPpZ1bjhbJ...  \n",
       "2731  9iHhp79F5CXRq3DYS4urz8q4aDyLAx1L5d6cyucrh9gPqD...  \n",
       "2732  9iHhp79F5CXRq3DYS4urz8q4aDyLAx1L5d6cyucrh9gPqD...  \n",
       "2733  9iHhp79F5CXRq3DYS4urz8q4aDyLAx1L5d6cyucrh9gPqD...  \n",
       "2734  9iHhp79F5CXRq3DYS4urz8q4aDyLAx1L5d6cyucrh9gPqD...  \n",
       "\n",
       "[2735 rows x 5 columns]"
      ]
     },
     "execution_count": 6,
     "metadata": {},
     "output_type": "execute_result"
    }
   ],
   "source": [
    "db_sync.db.fetch_data('performance')"
   ]
  },
  {
   "cell_type": "code",
   "execution_count": 7,
   "id": "92e7468a-4474-45cc-8b02-a12bcb93aa3c",
   "metadata": {},
   "outputs": [
    {
     "name": "stdout",
     "output_type": "stream",
     "text": [
      "Batch 1/1: Deleted up to 10000 rows from performance\n"
     ]
    },
    {
     "name": "stderr",
     "output_type": "stream",
     "text": [
      "/home/whaleshark/Documents/sigmanaut-mining-pool-ui/utils/db_util.py:180: UserWarning: pandas only supports SQLAlchemy connectable (engine/connection) or database string URI or sqlite3 DBAPI2 connection. Other DBAPI2 objects are not tested. Please consider using SQLAlchemy.\n",
      "  return pd.read_sql_query(query, self.conn)\n"
     ]
    },
    {
     "name": "stdout",
     "output_type": "stream",
     "text": [
      "Index(['fee', 'paid', 'blocks', 'last_block_found', 'enabled',\n",
      "       'minimumpayment', 'payoutscheme', 'connectedminers', 'poolhashrate',\n",
      "       'sharespersecond', 'networktype', 'networkhashrate',\n",
      "       'networkdifficulty', 'lastnetworkblocktime', 'blockheight',\n",
      "       'connectedpeers', 'rewardtype', 'pooleffort', 'poolttf', 'price',\n",
      "       'insert_time_stamp'],\n",
      "      dtype='object')\n",
      "UPDATED LIVE WORK, PERFORMANCE, AND PAYMENT TABLES SUCCESFULLY\n"
     ]
    }
   ],
   "source": [
    "update_payment_and_performance()"
   ]
  },
  {
   "cell_type": "code",
   "execution_count": null,
   "id": "729c6b38-f34e-454d-9325-630be159eb62",
   "metadata": {},
   "outputs": [],
   "source": [
    "update_pool_stats()"
   ]
  }
 ],
 "metadata": {
  "kernelspec": {
   "display_name": "Python 3 (ipykernel)",
   "language": "python",
   "name": "python3"
  },
  "language_info": {
   "codemirror_mode": {
    "name": "ipython",
    "version": 3
   },
   "file_extension": ".py",
   "mimetype": "text/x-python",
   "name": "python",
   "nbconvert_exporter": "python",
   "pygments_lexer": "ipython3",
   "version": "3.10.12"
  }
 },
 "nbformat": 4,
 "nbformat_minor": 5
}
