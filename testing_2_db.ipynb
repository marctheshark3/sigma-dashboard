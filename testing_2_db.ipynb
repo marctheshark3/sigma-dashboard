{
 "cells": [
  {
   "cell_type": "code",
   "execution_count": 1,
   "id": "96944386-e139-4ef4-9d86-26463244ff6f",
   "metadata": {},
   "outputs": [],
   "source": [
    "from utils.api_2_db import DataSyncer\n",
    "import pandas as pd\n",
    "from utils.update_blocks_and_workers import update_blocks_and_live_workers\n",
    "from utils.update_payment_and_performance import update_payment_and_performance\n",
    "from utils.update_pool_stats import update_pool_stats\n",
    "from utils.init_db import init_db"
   ]
  },
  {
   "cell_type": "code",
   "execution_count": 2,
   "id": "11604c9d-4ef6-48da-939f-fac113478414",
   "metadata": {},
   "outputs": [],
   "source": [
    "db_sync = DataSyncer(config_path=\"../conf\")\n",
    "miner = '9ehJZvPDgvCNNd2zTQHxnSpcCAtb1kHbEN1VAgeoRD5DPVApYkk'"
   ]
  },
  {
   "cell_type": "code",
   "execution_count": null,
   "id": "4994b7a3-98ce-48ba-9635-3850b2a6f9fd",
   "metadata": {
    "scrolled": true
   },
   "outputs": [],
   "source": [
    "db_sync.__delete_table__()"
   ]
  },
  {
   "cell_type": "code",
   "execution_count": 3,
   "id": "7fd703d1-62a2-4def-a041-09dad714ab9e",
   "metadata": {
    "scrolled": true
   },
   "outputs": [
    {
     "name": "stdout",
     "output_type": "stream",
     "text": [
      "intializing DB\n",
      "Batch 1/1: Deleted up to 100 rows from stats\n",
      "UPDATED STATS TABLE SUCCESFULLY\n",
      "UPDATED BLOCK TABLE SUCCESFULLY\n"
     ]
    },
    {
     "name": "stderr",
     "output_type": "stream",
     "text": [
      "/home/whaleshark/Documents/sigmanaut-mining-pool-ui/utils/db_util.py:222: UserWarning: pandas only supports SQLAlchemy connectable (engine/connection) or database string URI or sqlite3 DBAPI2 connection. Other DBAPI2 objects are not tested. Please consider using SQLAlchemy.\n",
      "  return pd.read_sql_query(query, self.conn)\n"
     ]
    },
    {
     "name": "stdout",
     "output_type": "stream",
     "text": [
      "Index(['fee', 'paid', 'blocks', 'last_block_found', 'enabled',\n",
      "       'minimumpayment', 'payoutscheme', 'connectedminers', 'poolhashrate',\n",
      "       'sharespersecond', 'networktype', 'networkhashrate',\n",
      "       'networkdifficulty', 'lastnetworkblocktime', 'blockheight',\n",
      "       'connectedpeers', 'rewardtype', 'pooleffort', 'poolttf', 'price',\n",
      "       'insert_time_stamp'],\n",
      "      dtype='object')\n",
      "no live data for miner 9fGzn8VCszvFMXo2KDrQiVowwSdchVT13ygX26RKUfkjcruRq7J\n",
      "no live data for miner 9gHULKUh8kLBBc6F6ddtyzeyhzz2KzGerPbFw7ZHmSUPrRGfnoz\n",
      "UPDATED LIVE WORK, PERFORMANCE, AND PAYMENT TABLES SUCCESFULLY\n",
      "complete\n"
     ]
    }
   ],
   "source": [
    "init_db()"
   ]
  },
  {
   "cell_type": "code",
   "execution_count": null,
   "id": "b1a091c8-8c73-4dcf-b74d-26832707cae3",
   "metadata": {},
   "outputs": [],
   "source": [
    "update_pool_stats()"
   ]
  },
  {
   "cell_type": "code",
   "execution_count": null,
   "id": "b586b668-4840-46f4-b2c6-d169ecf87f16",
   "metadata": {},
   "outputs": [],
   "source": [
    "update_blocks_and_live_workers()"
   ]
  },
  {
   "cell_type": "code",
   "execution_count": null,
   "id": "4bae6d28-ddd3-4b9e-9d34-34eeff29e80b",
   "metadata": {
    "scrolled": true
   },
   "outputs": [],
   "source": [
    "df = db_sync.db.fetch_data('performance')\n",
    "df = df[df.miner == miner]\n",
    "df = df[df.worker == 'GRAYSPEAK']\n",
    "df[df.created == '2024-05-06 16:00:00']"
   ]
  },
  {
   "cell_type": "code",
   "execution_count": null,
   "id": "419e47a1-3e7f-4636-8735-415e9d483ad1",
   "metadata": {},
   "outputs": [],
   "source": [
    "worker_df = db_sync.db.fetch_data('live_worker')\n",
    "total_df = worker_df[worker_df.worker == 'totals']\n",
    "my_worker_df = total_df[total_df.miner == miner]\n",
    "latest_worker = my_worker_df[my_worker_df.created == max(my_worker_df.created)]"
   ]
  },
  {
   "cell_type": "code",
   "execution_count": null,
   "id": "426a7e20-dc50-4ee0-aa96-b0cb419058f2",
   "metadata": {},
   "outputs": [],
   "source": [
    "my_total_hash = latest_worker.hashrate.item()\n",
    "my_total_hash"
   ]
  },
  {
   "cell_type": "code",
   "execution_count": null,
   "id": "92e7468a-4474-45cc-8b02-a12bcb93aa3c",
   "metadata": {},
   "outputs": [],
   "source": [
    "update_payment_and_performance()"
   ]
  },
  {
   "cell_type": "code",
   "execution_count": null,
   "id": "729c6b38-f34e-454d-9325-630be159eb62",
   "metadata": {},
   "outputs": [],
   "source": [
    "update_pool_stats()"
   ]
  },
  {
   "cell_type": "code",
   "execution_count": null,
   "id": "dca3cb9d-d4de-411b-8832-5dd41d582542",
   "metadata": {},
   "outputs": [],
   "source": [
    "df = db_sync.db.fetch_data('performance')\n",
    "my_worker_performance = df[df.miner == miner]\n",
    "t_df = my_worker_performance[my_worker_performance.worker == 'totals']\n",
    "t_df.sort_values('created')"
   ]
  },
  {
   "cell_type": "code",
   "execution_count": null,
   "id": "6c8d68d7-4500-43b2-9c1d-efe09cb65d29",
   "metadata": {},
   "outputs": [],
   "source": [
    "db_sync.db.get_db_size()"
   ]
  },
  {
   "cell_type": "code",
   "execution_count": null,
   "id": "718f6add-07eb-4e71-9df8-3c6b6a81fc4f",
   "metadata": {},
   "outputs": [],
   "source": []
  }
 ],
 "metadata": {
  "kernelspec": {
   "display_name": "Python 3 (ipykernel)",
   "language": "python",
   "name": "python3"
  },
  "language_info": {
   "codemirror_mode": {
    "name": "ipython",
    "version": 3
   },
   "file_extension": ".py",
   "mimetype": "text/x-python",
   "name": "python",
   "nbconvert_exporter": "python",
   "pygments_lexer": "ipython3",
   "version": "3.10.12"
  }
 },
 "nbformat": 4,
 "nbformat_minor": 5
}
