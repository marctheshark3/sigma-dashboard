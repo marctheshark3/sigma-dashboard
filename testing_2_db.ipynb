{
 "cells": [
  {
   "cell_type": "code",
   "execution_count": null,
   "id": "96944386-e139-4ef4-9d86-26463244ff6f",
   "metadata": {},
   "outputs": [],
   "source": [
    "from utils.api_2_db import DataSyncer\n",
    "import pandas as pd"
   ]
  },
  {
   "cell_type": "code",
   "execution_count": null,
   "id": "11604c9d-4ef6-48da-939f-fac113478414",
   "metadata": {},
   "outputs": [],
   "source": [
    "db_sync = DataSyncer(config_path=\"../conf\")"
   ]
  },
  {
   "cell_type": "code",
   "execution_count": null,
   "id": "72901a13-6ac4-4d3d-b93e-b9ae940ed62f",
   "metadata": {},
   "outputs": [],
   "source": [
    "# db_sync.__delete_table__()\n",
    "db_sync.__create_table__()"
   ]
  },
  {
   "cell_type": "code",
   "execution_count": null,
   "id": "2736017b-7f7c-4f92-a8f0-9098dbcad123",
   "metadata": {},
   "outputs": [],
   "source": [
    "timenow = pd.Timestamp.now()"
   ]
  },
  {
   "cell_type": "code",
   "execution_count": null,
   "id": "fedbaf9b-d0df-4450-8584-27b4b4d5dc5a",
   "metadata": {
    "scrolled": true
   },
   "outputs": [],
   "source": [
    "db_sync.update_block_data(timenow)\n",
    "db_sync.db.fetch_data('block')"
   ]
  },
  {
   "cell_type": "code",
   "execution_count": null,
   "id": "dde69db9-7336-4774-9332-ef4baf4d2517",
   "metadata": {},
   "outputs": [],
   "source": [
    "db_sync.update_pool_stats(timenow)\n",
    "db_sync.db.fetch_data('stats')"
   ]
  },
  {
   "cell_type": "code",
   "execution_count": null,
   "id": "e1de965a-d3e3-4e54-b7ab-a2c1e8f844da",
   "metadata": {},
   "outputs": [],
   "source": [
    "data = db_sync.db.fetch_data('stats')\n",
    "data.columns"
   ]
  },
  {
   "cell_type": "code",
   "execution_count": null,
   "id": "0f3e5a43-8f1b-4e54-81aa-9c888881b82f",
   "metadata": {},
   "outputs": [],
   "source": [
    "data['fee'][0]"
   ]
  },
  {
   "cell_type": "code",
   "execution_count": null,
   "id": "cd8c2c61-4ba2-4740-9f3f-667c501d365e",
   "metadata": {},
   "outputs": [],
   "source": [
    "db_sync.data"
   ]
  },
  {
   "cell_type": "code",
   "execution_count": null,
   "id": "2ceade65-613b-413e-9c46-df3e12e15911",
   "metadata": {
    "scrolled": true
   },
   "outputs": [],
   "source": [
    "db_sync.update_miner_data(timenow)\n",
    "db_sync.db.fetch_data('payment')"
   ]
  },
  {
   "cell_type": "code",
   "execution_count": null,
   "id": "45b50f14-4805-4b2f-ac90-baaa87b92ca4",
   "metadata": {},
   "outputs": [],
   "source": [
    "df = db_sync.db.fetch_data('live_worker')\n",
    "aggregated_df = df.groupby('miner').agg({\n",
    "    'hashrate': 'sum',                  # Sum of hashrate\n",
    "    'shares_per_second': 'sum',         # Sum of shares_per_second\n",
    "    'worker': 'nunique',                # Count of unique workers\n",
    "    # 'miner': 'miner'                  # Count of unique miners\n",
    "})\n",
    "aggregated_df\n",
    "# aggregated_df.sort_values(['created'])"
   ]
  },
  {
   "cell_type": "code",
   "execution_count": null,
   "id": "a48184cc-33de-4d81-834d-7861d2dd6e3c",
   "metadata": {},
   "outputs": [],
   "source": [
    "df = db_sync.db.fetch_data('performance')\n",
    "df"
   ]
  },
  {
   "cell_type": "code",
   "execution_count": null,
   "id": "e86e1e78-c04a-4f1d-b95b-5963bc69e0c5",
   "metadata": {},
   "outputs": [],
   "source": [
    "aggregated_df = df.groupby('created').agg({\n",
    "    'hashrate': 'sum',                  # Sum of hashrate\n",
    "    'shares_per_second': 'sum',         # Sum of shares_per_second\n",
    "    'worker': 'nunique',                # Count of unique workers\n",
    "    'miner': 'nunique'                  # Count of unique miners\n",
    "}).reset_index()\n",
    "aggregated_df.sort_values(['created'])"
   ]
  },
  {
   "cell_type": "code",
   "execution_count": null,
   "id": "c20f9edc-7c09-4167-98c3-4bb1086c80a7",
   "metadata": {},
   "outputs": [],
   "source": [
    "aggregated_df['created']"
   ]
  },
  {
   "cell_type": "code",
   "execution_count": null,
   "id": "efd84d1e-1548-4d60-8e7a-d273f2b02293",
   "metadata": {},
   "outputs": [],
   "source": []
  }
 ],
 "metadata": {
  "kernelspec": {
   "display_name": "Python 3 (ipykernel)",
   "language": "python",
   "name": "python3"
  },
  "language_info": {
   "codemirror_mode": {
    "name": "ipython",
    "version": 3
   },
   "file_extension": ".py",
   "mimetype": "text/x-python",
   "name": "python",
   "nbconvert_exporter": "python",
   "pygments_lexer": "ipython3",
   "version": "3.10.12"
  }
 },
 "nbformat": 4,
 "nbformat_minor": 5
}
