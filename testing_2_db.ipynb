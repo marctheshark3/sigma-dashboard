{
 "cells": [
  {
   "cell_type": "code",
   "execution_count": 3,
   "id": "96944386-e139-4ef4-9d86-26463244ff6f",
   "metadata": {},
   "outputs": [],
   "source": [
    "from utils.api_2_db import DataSyncer\n",
    "import pandas as pd\n",
    "from utils.update_blocks_and_workers import update_blocks_and_live_workers\n",
    "from utils.update_payment_and_performance import update_payment_and_performance\n",
    "from utils.update_pool_stats import update_pool_stats\n",
    "from utils.init_db import init_db"
   ]
  },
  {
   "cell_type": "code",
   "execution_count": 8,
   "id": "11604c9d-4ef6-48da-939f-fac113478414",
   "metadata": {},
   "outputs": [],
   "source": [
    "db_name = 'localhost'\n",
    "db_sync = DataSyncer(config_path=\"../conf\", db_name=db_name)\n",
    "miner = '9ehJZvPDgvCNNd2zTQHxnSpcCAtb1kHbEN1VAgeoRD5DPVApYkk'"
   ]
  },
  {
   "cell_type": "code",
   "execution_count": 5,
   "id": "7fd703d1-62a2-4def-a041-09dad714ab9e",
   "metadata": {
    "scrolled": true
   },
   "outputs": [
    {
     "name": "stdout",
     "output_type": "stream",
     "text": [
      "intializing DB\n",
      "UPDATED STATS TABLE SUCCESFULLY\n",
      "UPDATED BLOCK TABLE SUCCESFULLY\n"
     ]
    },
    {
     "name": "stderr",
     "output_type": "stream",
     "text": [
      "/home/whaleshark/Documents/sigmanaut-mining-pool-ui/utils/db_util.py:222: UserWarning: pandas only supports SQLAlchemy connectable (engine/connection) or database string URI or sqlite3 DBAPI2 connection. Other DBAPI2 objects are not tested. Please consider using SQLAlchemy.\n",
      "  return pd.read_sql_query(query, self.conn)\n"
     ]
    },
    {
     "name": "stdout",
     "output_type": "stream",
     "text": [
      "Index(['fee', 'paid', 'blocks', 'last_block_found', 'enabled',\n",
      "       'minimumpayment', 'payoutscheme', 'connectedminers', 'poolhashrate',\n",
      "       'sharespersecond', 'networktype', 'networkhashrate',\n",
      "       'networkdifficulty', 'lastnetworkblocktime', 'blockheight',\n",
      "       'connectedpeers', 'rewardtype', 'pooleffort', 'poolttf', 'price',\n",
      "       'insert_time_stamp'],\n",
      "      dtype='object')\n",
      "no live data for miner 9eZVqXVnrVWQKK19b7E7kp4ZyNqanp2z1mpKUJRaouNsmeFsakQ\n",
      "no live data for miner 9h4Q7d8b98Pr77CVd99n5gcWi6tz4MtkyGRFFkh2FQDYfWYt1mP\n",
      "no live data for miner 9hyzuf6zUyWR2z3vTBCkwXNceCE3WuVVhVLMzEDUsdu5rqHq525\n",
      "no live data for miner 9h1B5mgnHMpLtJfSxuBkgiD2GUYUKbuoYw5pokhhEdJxtJMLrM6\n",
      "no live data for miner 9gyKCPYkaBJp7z8NxxCygjwB6u9GLudiakUEUPpZ1bjhbJUip8z\n",
      "no live data for miner 9gcwns63b8GJkZtu2j655xQRtAdYjy6SKdjNkMNRjYj7Git9HxP\n",
      "UPDATED LIVE WORK, PERFORMANCE, AND PAYMENT TABLES SUCCESFULLY\n",
      "complete\n"
     ]
    }
   ],
   "source": [
    "init_db('localhost')"
   ]
  },
  {
   "cell_type": "code",
   "execution_count": 9,
   "id": "b1a091c8-8c73-4dcf-b74d-26832707cae3",
   "metadata": {},
   "outputs": [
    {
     "name": "stdout",
     "output_type": "stream",
     "text": [
      "UPDATED STATS TABLE SUCCESFULLY\n"
     ]
    }
   ],
   "source": [
    "update_pool_stats(db_name)"
   ]
  },
  {
   "cell_type": "code",
   "execution_count": 10,
   "id": "b586b668-4840-46f4-b2c6-d169ecf87f16",
   "metadata": {},
   "outputs": [
    {
     "name": "stdout",
     "output_type": "stream",
     "text": [
      "UPDATED BLOCK TABLE SUCCESFULLY\n"
     ]
    },
    {
     "name": "stderr",
     "output_type": "stream",
     "text": [
      "/home/whaleshark/Documents/sigmanaut-mining-pool-ui/utils/db_util.py:222: UserWarning: pandas only supports SQLAlchemy connectable (engine/connection) or database string URI or sqlite3 DBAPI2 connection. Other DBAPI2 objects are not tested. Please consider using SQLAlchemy.\n",
      "  return pd.read_sql_query(query, self.conn)\n"
     ]
    },
    {
     "name": "stdout",
     "output_type": "stream",
     "text": [
      "Index(['fee', 'paid', 'blocks', 'last_block_found', 'enabled',\n",
      "       'minimumpayment', 'payoutscheme', 'connectedminers', 'poolhashrate',\n",
      "       'sharespersecond', 'networktype', 'networkhashrate',\n",
      "       'networkdifficulty', 'lastnetworkblocktime', 'blockheight',\n",
      "       'connectedpeers', 'rewardtype', 'pooleffort', 'poolttf', 'price',\n",
      "       'insert_time_stamp'],\n",
      "      dtype='object')\n",
      "no live data for miner 9eZVqXVnrVWQKK19b7E7kp4ZyNqanp2z1mpKUJRaouNsmeFsakQ\n",
      "no live data for miner 9h4Q7d8b98Pr77CVd99n5gcWi6tz4MtkyGRFFkh2FQDYfWYt1mP\n",
      "no live data for miner 9hyzuf6zUyWR2z3vTBCkwXNceCE3WuVVhVLMzEDUsdu5rqHq525\n",
      "no live data for miner 9h1B5mgnHMpLtJfSxuBkgiD2GUYUKbuoYw5pokhhEdJxtJMLrM6\n",
      "no live data for miner 9gyKCPYkaBJp7z8NxxCygjwB6u9GLudiakUEUPpZ1bjhbJUip8z\n",
      "no live data for miner 9gcwns63b8GJkZtu2j655xQRtAdYjy6SKdjNkMNRjYj7Git9HxP\n",
      "UPDATED LIVE WORK, PERFORMANCE, AND PAYMENT TABLES SUCCESFULLY\n"
     ]
    }
   ],
   "source": [
    "update_blocks_and_live_workers(db_name)"
   ]
  },
  {
   "cell_type": "code",
   "execution_count": 11,
   "id": "92e7468a-4474-45cc-8b02-a12bcb93aa3c",
   "metadata": {},
   "outputs": [
    {
     "name": "stderr",
     "output_type": "stream",
     "text": [
      "/home/whaleshark/Documents/sigmanaut-mining-pool-ui/utils/db_util.py:222: UserWarning: pandas only supports SQLAlchemy connectable (engine/connection) or database string URI or sqlite3 DBAPI2 connection. Other DBAPI2 objects are not tested. Please consider using SQLAlchemy.\n",
      "  return pd.read_sql_query(query, self.conn)\n"
     ]
    },
    {
     "name": "stdout",
     "output_type": "stream",
     "text": [
      "Index(['fee', 'paid', 'blocks', 'last_block_found', 'enabled',\n",
      "       'minimumpayment', 'payoutscheme', 'connectedminers', 'poolhashrate',\n",
      "       'sharespersecond', 'networktype', 'networkhashrate',\n",
      "       'networkdifficulty', 'lastnetworkblocktime', 'blockheight',\n",
      "       'connectedpeers', 'rewardtype', 'pooleffort', 'poolttf', 'price',\n",
      "       'insert_time_stamp'],\n",
      "      dtype='object')\n",
      "UPDATED LIVE WORK, PERFORMANCE, AND PAYMENT TABLES SUCCESFULLY\n"
     ]
    }
   ],
   "source": [
    "update_payment_and_performance(db_name)"
   ]
  },
  {
   "cell_type": "code",
   "execution_count": 12,
   "id": "729c6b38-f34e-454d-9325-630be159eb62",
   "metadata": {},
   "outputs": [
    {
     "name": "stdout",
     "output_type": "stream",
     "text": [
      "UPDATED STATS TABLE SUCCESFULLY\n"
     ]
    }
   ],
   "source": [
    "update_pool_stats(db_name)"
   ]
  },
  {
   "cell_type": "code",
   "execution_count": 16,
   "id": "0fa8be8d-6170-4b05-8ea6-ac30c582a983",
   "metadata": {},
   "outputs": [
    {
     "name": "stderr",
     "output_type": "stream",
     "text": [
      "/home/whaleshark/Documents/sigmanaut-mining-pool-ui/utils/db_util.py:222: UserWarning: pandas only supports SQLAlchemy connectable (engine/connection) or database string URI or sqlite3 DBAPI2 connection. Other DBAPI2 objects are not tested. Please consider using SQLAlchemy.\n",
      "  return pd.read_sql_query(query, self.conn)\n"
     ]
    },
    {
     "data": {
      "text/html": [
       "<div>\n",
       "<style scoped>\n",
       "    .dataframe tbody tr th:only-of-type {\n",
       "        vertical-align: middle;\n",
       "    }\n",
       "\n",
       "    .dataframe tbody tr th {\n",
       "        vertical-align: top;\n",
       "    }\n",
       "\n",
       "    .dataframe thead th {\n",
       "        text-align: right;\n",
       "    }\n",
       "</style>\n",
       "<table border=\"1\" class=\"dataframe\">\n",
       "  <thead>\n",
       "    <tr style=\"text-align: right;\">\n",
       "      <th></th>\n",
       "      <th>pendingshares</th>\n",
       "      <th>pendingbalance</th>\n",
       "      <th>totalpaid</th>\n",
       "      <th>todaypaid</th>\n",
       "      <th>schema</th>\n",
       "      <th>price</th>\n",
       "      <th>lastpayment</th>\n",
       "      <th>lastpaymentlink</th>\n",
       "      <th>created_at</th>\n",
       "      <th>miner</th>\n",
       "    </tr>\n",
       "  </thead>\n",
       "  <tbody>\n",
       "    <tr>\n",
       "      <th>990</th>\n",
       "      <td>98.33</td>\n",
       "      <td>0.0</td>\n",
       "      <td>338.45</td>\n",
       "      <td>1.464749</td>\n",
       "      <td>PPLNS</td>\n",
       "      <td>1.18</td>\n",
       "      <td>2024-05-08</td>\n",
       "      <td>https://explorer.ergoplatform.com/en/transacti...</td>\n",
       "      <td>2024-05-08 11:56:01.671197</td>\n",
       "      <td>9ehJZvPDgvCNNd2zTQHxnSpcCAtb1kHbEN1VAgeoRD5DPV...</td>\n",
       "    </tr>\n",
       "    <tr>\n",
       "      <th>1201</th>\n",
       "      <td>65.20</td>\n",
       "      <td>0.0</td>\n",
       "      <td>342.52</td>\n",
       "      <td>2.661853</td>\n",
       "      <td>PPLNS</td>\n",
       "      <td>1.26</td>\n",
       "      <td>2024-05-09</td>\n",
       "      <td>https://explorer.ergoplatform.com/en/transacti...</td>\n",
       "      <td>2024-05-09 09:40:07.269795</td>\n",
       "      <td>9ehJZvPDgvCNNd2zTQHxnSpcCAtb1kHbEN1VAgeoRD5DPV...</td>\n",
       "    </tr>\n",
       "  </tbody>\n",
       "</table>\n",
       "</div>"
      ],
      "text/plain": [
       "      pendingshares  pendingbalance  totalpaid  todaypaid schema  price  \\\n",
       "990           98.33             0.0     338.45   1.464749  PPLNS   1.18   \n",
       "1201          65.20             0.0     342.52   2.661853  PPLNS   1.26   \n",
       "\n",
       "     lastpayment                                    lastpaymentlink  \\\n",
       "990   2024-05-08  https://explorer.ergoplatform.com/en/transacti...   \n",
       "1201  2024-05-09  https://explorer.ergoplatform.com/en/transacti...   \n",
       "\n",
       "                     created_at  \\\n",
       "990  2024-05-08 11:56:01.671197   \n",
       "1201 2024-05-09 09:40:07.269795   \n",
       "\n",
       "                                                  miner  \n",
       "990   9ehJZvPDgvCNNd2zTQHxnSpcCAtb1kHbEN1VAgeoRD5DPV...  \n",
       "1201  9ehJZvPDgvCNNd2zTQHxnSpcCAtb1kHbEN1VAgeoRD5DPV...  "
      ]
     },
     "execution_count": 16,
     "metadata": {},
     "output_type": "execute_result"
    }
   ],
   "source": [
    "df = db_sync.db.fetch_data('payment')\n",
    "df = df[df.miner == miner]\n",
    "dates = df.lastpayment.unique()\n",
    "\n",
    "ls = []\n",
    "for date in dates:\n",
    "    temp = df[df.lastpayment == date]\n",
    "    temp = temp[temp.created_at == max(temp.created_at)]\n",
    "    ls.append(temp)\n",
    "\n",
    "new_df = pd.concat(ls)\n",
    "new_df"
   ]
  },
  {
   "cell_type": "code",
   "execution_count": null,
   "id": "6c8d68d7-4500-43b2-9c1d-efe09cb65d29",
   "metadata": {},
   "outputs": [],
   "source": [
    "db_sync.db.get_db_size()"
   ]
  },
  {
   "cell_type": "code",
   "execution_count": null,
   "id": "718f6add-07eb-4e71-9df8-3c6b6a81fc4f",
   "metadata": {},
   "outputs": [],
   "source": []
  }
 ],
 "metadata": {
  "kernelspec": {
   "display_name": "Python 3 (ipykernel)",
   "language": "python",
   "name": "python3"
  },
  "language_info": {
   "codemirror_mode": {
    "name": "ipython",
    "version": 3
   },
   "file_extension": ".py",
   "mimetype": "text/x-python",
   "name": "python",
   "nbconvert_exporter": "python",
   "pygments_lexer": "ipython3",
   "version": "3.10.12"
  }
 },
 "nbformat": 4,
 "nbformat_minor": 5
}
