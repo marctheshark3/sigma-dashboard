{
 "cells": [
  {
   "cell_type": "markdown",
   "id": "6ac271e7-8b9c-41fe-9b3b-51214492a4bf",
   "metadata": {},
   "source": [
    "1 - Here is an API call to look into a wallet specified by address at the end of the URL:\n",
    "\n",
    "https://api.ergo.aap.cornell.edu/api/v1/boxes/unspent/byAddress/9eZPTmn8zp5GJ7KZwTo8cEuxNdezWaY3hBbLeWid7EAZedzb9tD\n",
    "\n",
    "\n",
    "\n",
    "2 - You would scan that wallet for a specific NFT name, in this case, the vote token (we would name the mining NFT's the same per season, like name\":\"SigMiningPool:MINERSADDRESS:SEASONIDENTIFIER\"):\n",
    "\n",
    "{\"tokenId\":\"9f087ebb5d7baf7eb8f13b742e9a9b5b1b8d78b7a7f84d1f9b9d393f4888d679\",\"index\":8,\"amount\":1,\"name\":\"SIGMAVOTE:qxtest.1158864.1180864.9eZPTmn8zp5GJ7KZwTo8cEuxNdezWaY3hBbLeWid7EAZedzb9tD\",\"decimals\":0,\"type\":\"EIP-004\"},\n",
    "\n",
    "\n",
    "\n",
    "3 - You then look up that token id here (address has the token id at the end from #2 above) to get the data in the \"description\":\"\" which will be the mining data for that user:\n",
    "\n",
    "https://api.ergo.aap.cornell.edu/api/v1/tokens/9f087ebb5d7baf7eb8f13b742e9a9b5b1b8d78b7a7f84d1f9b9d393f4888d679\n",
    "\n"
   ]
  },
  {
   "cell_type": "code",
   "execution_count": 1,
   "id": "c45f4cd4-7b14-4eab-a030-79ec1db325ec",
   "metadata": {},
   "outputs": [],
   "source": [
    "import requests\n",
    "\n",
    "class SigmaWalletReader:\n",
    "    def __init__(self, api, token_id, token_ls_url='https://api.ergo.aap.cornell.edu/api/v1/tokens/'):\n",
    "        self.api = api\n",
    "        self.token_id = token_id\n",
    "        self.token_ls = token_ls_url\n",
    "    \n",
    "    def get_api_data(self, api_url):\n",
    "        try:\n",
    "            # Send a GET request to the API\n",
    "            response = requests.get(api_url)\n",
    "    \n",
    "            # Check if the request was successful (status code 200)\n",
    "            if response.status_code == 200:\n",
    "                # Parse the response as JSON (assuming the API returns JSON data)\n",
    "                data = response.json()\n",
    "                return data\n",
    "            else:\n",
    "                print(f\"Failed to retrieve data: Status code {response.status_code}\")\n",
    "                return None\n",
    "    \n",
    "        except requests.exceptions.RequestException as e:\n",
    "            # Handle any exceptions that occur during the request\n",
    "            print(f\"An error occurred: {e}\")\n",
    "            return None\n",
    "\n",
    "    def find_token_in_wallet(self, wallet,):\n",
    "        url = '{}/{}'.format(self.api, wallet)\n",
    "        wallet_data = self.get_api_data(url)\n",
    "\n",
    "        wallet_contents = wallet_data['items']\n",
    "        for contents in wallet_contents:\n",
    "            if contents['assets']:\n",
    "                for items in contents['assets']:\n",
    "                    token_id = items['tokenId']\n",
    "                    if token_id == self.token_id:\n",
    "                        return True\n",
    "                        \n",
    "    def get_token_description(self):\n",
    "        url = '{}/{}'.format(self.token_ls, self.token_id)\n",
    "        data = self.get_api_data(url)\n",
    "\n",
    "        token_description = data['description']\n",
    "        return token_description\n",
    "\n",
    "    def run(self, wallet):\n",
    "\n",
    "        token_in_wallet = self.find_token_in_wallet(wallet)\n",
    "        if token_in_wallet:\n",
    "            description = self.get_token_description()\n",
    "            print('THE ADDRESS {} CONTAINS THE TOKEN {} WITH THE DESCRIPTION OF {}'.format(wallet,\n",
    "                                                                                           self.token_id,\n",
    "                                                                                           description))\n",
    "            return description\n",
    "        else:\n",
    "            print('THE ADDRESS {} DOES NOT CONTAIN THE TOKEN {}'.format(wallet, self.token_id))   "
   ]
  },
  {
   "cell_type": "code",
   "execution_count": 2,
   "id": "ea732191-e8eb-44cb-855f-f2a6df9b198f",
   "metadata": {
    "scrolled": true
   },
   "outputs": [
    {
     "name": "stdout",
     "output_type": "stream",
     "text": [
      "THE ADDRESS 9eZPTmn8zp5GJ7KZwTo8cEuxNdezWaY3hBbLeWid7EAZedzb9tD CONTAINS THE TOKEN 9f087ebb5d7baf7eb8f13b742e9a9b5b1b8d78b7a7f84d1f9b9d393f4888d679 WITH THE DESCRIPTION OF \n"
     ]
    }
   ],
   "source": [
    "url = 'https://api.ergo.aap.cornell.edu/api/v1/boxes/unspent/byAddress/'\n",
    "wallet = '9eZPTmn8zp5GJ7KZwTo8cEuxNdezWaY3hBbLeWid7EAZedzb9tD'\n",
    "token_id='9f087ebb5d7baf7eb8f13b742e9a9b5b1b8d78b7a7f84d1f9b9d393f4888d679'\n",
    "token_ls_url='https://api.ergo.aap.cornell.edu/api/v1/tokens'\n",
    "\n",
    "reader = SigmaWalletReader(url, token_id,token_ls_url)\n",
    "desc = reader.run(wallet)"
   ]
  },
  {
   "cell_type": "code",
   "execution_count": 3,
   "id": "987fddb9-55bf-4eb9-b9a4-19e257768516",
   "metadata": {},
   "outputs": [
    {
     "name": "stdout",
     "output_type": "stream",
     "text": [
      "THE ADDRESS 9ehJZvPDgvCNNd2zTQHxnSpcCAtb1kHbEN1VAgeoRD5DPVApYkk DOES NOT CONTAIN THE TOKEN 9f087ebb5d7baf7eb8f13b742e9a9b5b1b8d78b7a7f84d1f9b9d393f4888d679\n"
     ]
    }
   ],
   "source": [
    "wallet = '9ehJZvPDgvCNNd2zTQHxnSpcCAtb1kHbEN1VAgeoRD5DPVApYkk'\n",
    "desc = reader.run(wallet)"
   ]
  },
  {
   "cell_type": "code",
   "execution_count": null,
   "id": "2b21763a-89c8-4f5f-acef-7e5dea572055",
   "metadata": {},
   "outputs": [],
   "source": []
  }
 ],
 "metadata": {
  "kernelspec": {
   "display_name": "Python 3 (ipykernel)",
   "language": "python",
   "name": "python3"
  },
  "language_info": {
   "codemirror_mode": {
    "name": "ipython",
    "version": 3
   },
   "file_extension": ".py",
   "mimetype": "text/x-python",
   "name": "python",
   "nbconvert_exporter": "python",
   "pygments_lexer": "ipython3",
   "version": "3.10.12"
  }
 },
 "nbformat": 4,
 "nbformat_minor": 5
}
