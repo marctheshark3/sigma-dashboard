{
 "cells": [
  {
   "cell_type": "code",
   "execution_count": 1,
   "id": "bfa94de8-cd42-4439-839f-fe411e025a48",
   "metadata": {},
   "outputs": [],
   "source": [
    "import requests\n",
    "\n",
    "from utils.find_miner_id import ReadTokens"
   ]
  },
  {
   "cell_type": "markdown",
   "id": "cc2b6d5e-fac5-4080-87e2-1088f7b66f72",
   "metadata": {},
   "source": [
    "## TO DO\n",
    "\n",
    "Miners will have various NFT's in wallet and we search for the token name:\n",
    "if we find it, we grab the token-ID, we find out who minted this token, if the minter is the person who currently has the NFT we can assume this person is the miner setting their parameters."
   ]
  },
  {
   "cell_type": "code",
   "execution_count": 2,
   "id": "b68e8f14-e659-4189-baa1-64045afb15f0",
   "metadata": {},
   "outputs": [],
   "source": [
    "\n",
    "url = 'https://api.ergo.aap.cornell.edu/api/v1/boxes/byAddress'\n",
    "# url = 'https://api.ergoplatform.com/api/v1/boxes/byTokenId/'\n",
    "token_id = '5104822ac703509fb6790961d8d2b4afa4c75b9514abfd48ca8bf83639d30574'\n",
    "wallet = '9ehJZvPDgvCNNd2zTQHxnSpcCAtb1kHbEN1VAgeoRD5DPVApYkk'\n",
    "# wallet = '9hAcdWpFAv7biCSeUcCvXWYRfEepm1ubdsfg5PC48k9S7ymiU3W'\n",
    "\n",
    "find_tokens = ReadTokens(url)\n"
   ]
  },
  {
   "cell_type": "code",
   "execution_count": 3,
   "id": "53a142c9-fe15-408b-8eae-3315998ba67d",
   "metadata": {
    "scrolled": true
   },
   "outputs": [
    {
     "data": {
      "text/plain": [
       "[{'tokenId': 'a24b57a4b9a8122a52c5d92a6250b7ed5df134e660f3e3946770858a3fc46eb7',\n",
       "  'amount': 1,\n",
       "  'decimals': 0,\n",
       "  'name': 'Sigmanaut Mining Pool Miner ID - Season 0'},\n",
       " {'tokenId': '5104822ac703509fb6790961d8d2b4afa4c75b9514abfd48ca8bf83639d30574',\n",
       "  'amount': 1,\n",
       "  'decimals': 0,\n",
       "  'name': 'Sigmanaut Mining Pool Miner ID - Season 0'},\n",
       " {'tokenId': '5b8a5d9a0335ac3785c3edb8356acfca4e172b738aaa9feadfafa6fdc9989634',\n",
       "  'amount': 1,\n",
       "  'decimals': 0,\n",
       "  'name': 'Sigmanaut Mining Pool Miner ID - Season 0'}]"
      ]
     },
     "execution_count": 3,
     "metadata": {},
     "output_type": "execute_result"
    }
   ],
   "source": [
    "tokens = find_tokens.find_token_name_in_wallet(wallet, 'Sigmanaut Mining Pool Miner ID - Season 0')\n",
    "tokens"
   ]
  },
  {
   "cell_type": "code",
   "execution_count": 4,
   "id": "ab958926-744f-40d3-9eb5-3f9a704a67d4",
   "metadata": {},
   "outputs": [
    {
     "name": "stdout",
     "output_type": "stream",
     "text": [
      "a24b57a4b9a8122a52c5d92a6250b7ed5df134e660f3e3946770858a3fc46eb7 83626102ed1249872190ffb7c5bf33375ed2c27d0bec2c93db5897b19a31abd0\n",
      "5104822ac703509fb6790961d8d2b4afa4c75b9514abfd48ca8bf83639d30574 90117ce9db18e1ed37be9cb491d464af408825ce4aaef8329880d7b6adfc1d46\n",
      "5104822ac703509fb6790961d8d2b4afa4c75b9514abfd48ca8bf83639d30574 90117ce9db18e1ed37be9cb491d464af408825ce4aaef8329880d7b6adfc1d46\n",
      "5104822ac703509fb6790961d8d2b4afa4c75b9514abfd48ca8bf83639d30574 90117ce9db18e1ed37be9cb491d464af408825ce4aaef8329880d7b6adfc1d46\n",
      "5b8a5d9a0335ac3785c3edb8356acfca4e172b738aaa9feadfafa6fdc9989634 d84f73c421ec46b54374596ddeb8b4a56f2874f5a96ae659593423fa9ec3cac7\n"
     ]
    }
   ],
   "source": [
    "possible_tokens = find_tokens.find_token_name_in_wallet(wallet, 'Sigmanaut Mining Pool Miner ID - Season 0')\n",
    "\n",
    "my_tokens = []\n",
    "miner_id = None\n",
    "for token in possible_tokens:\n",
    "    \n",
    "    id = token['tokenId']\n",
    "    base_url = 'https://api.ergoplatform.com/api/v1/boxes/byTokenId'\n",
    "    url = '{}/{}'.format(base_url, id)\n",
    "    data = find_tokens.get_api_data(url)\n",
    "    oldest_height = 1e30\n",
    "    # for a given token we want to find the earliest TX with it so we can see who minted it\n",
    "    for item in data['items']:\n",
    "        if oldest_height > item['creationHeight']:\n",
    "            oldest_height = item['creationHeight']\n",
    "            # ls = item['boxId'], item['creationHeight'], item['transactionId'], item['address']\n",
    "            tx = item['transactionId']\n",
    "    \n",
    "    # tx = ls[2]\n",
    "    wallet_minted_tokens = []\n",
    "    url = 'https://api.ergoplatform.com/api/v1/transactions'\n",
    "    tx_url = '{}/{}'.format(url, tx)\n",
    "    data = find_tokens.get_api_data(tx_url)\n",
    "    # print(data)\n",
    "    box_id_first_input = data['inputs'][0]['boxId']\n",
    "\n",
    "    outputs = data['outputs']\n",
    "    # print(outputs, 'oi')\n",
    "    oldest_height = 0\n",
    "    for sample in outputs:\n",
    "        print(id, tx)\n",
    "        try:   \n",
    "            assets = sample['assets'][0]\n",
    "            if assets['tokenId'] == box_id_first_input:\n",
    "                minting_address = sample['address']\n",
    "                if wallet == minting_address:\n",
    "                    if sample['creationHeight'] > oldest_height:\n",
    "                        oldest_height = sample['creationHeight']\n",
    "                        my_tokens.append(token)\n",
    "                        miner_id = token\n",
    "                    break\n",
    "        except IndexError:\n",
    "            pass\n",
    "            # wallet_minted_tokens.append(\n",
    "    \n",
    "# minting_address, id"
   ]
  },
  {
   "cell_type": "code",
   "execution_count": 5,
   "id": "347d68bf-f18b-400e-af8b-ad2c5b9191a3",
   "metadata": {},
   "outputs": [
    {
     "data": {
      "text/plain": [
       "{'tokenId': '5b8a5d9a0335ac3785c3edb8356acfca4e172b738aaa9feadfafa6fdc9989634',\n",
       " 'amount': 1,\n",
       " 'decimals': 0,\n",
       " 'name': 'Sigmanaut Mining Pool Miner ID - Season 0'}"
      ]
     },
     "execution_count": 5,
     "metadata": {},
     "output_type": "execute_result"
    }
   ],
   "source": [
    "miner_id"
   ]
  },
  {
   "cell_type": "code",
   "execution_count": 6,
   "id": "26b2f5b9-207c-4076-a3a9-39c7e2b4b637",
   "metadata": {},
   "outputs": [
    {
     "data": {
      "text/plain": [
       "{'address': '9ehJZvPDgvCNNd2zTQHxnSpcCAtb1kHbEN1VAgeoRD5DPVApYkk',\n",
       " 'height': 1299322,\n",
       " 'minimumPayout': 33,\n",
       " 'tokens': [{'token': 'ERGO', 'value': 50},\n",
       "  {'token': 'SigUSD', 'value': 10},\n",
       "  {'token': 'RSN', 'value': 10},\n",
       "  {'token': 'rsBTC', 'value': 10},\n",
       "  {'token': 'Gluon', 'value': 10},\n",
       "  {'token': 'COMET', 'value': 5},\n",
       "  {'token': 'Bober', 'value': 5}],\n",
       " 'season': 0,\n",
       " 'type': 'Miner ID',\n",
       " 'fan_club': 'QX'}"
      ]
     },
     "execution_count": 6,
     "metadata": {},
     "output_type": "execute_result"
    }
   ],
   "source": [
    "find_tokens.get_token_description(miner_id['tokenId'])"
   ]
  },
  {
   "cell_type": "code",
   "execution_count": 7,
   "id": "d30da6e1-a886-4f2a-9922-cbff4a9c17e8",
   "metadata": {},
   "outputs": [
    {
     "data": {
      "text/plain": [
       "{'address': '9eg7v2nkypUZbdyvSKSD9kg8FNwrEdTrfC2xdXWXmEpDAFEtYEn',\n",
       " 'height': 1290164,\n",
       " 'minimumPayout': 20,\n",
       " 'tokens': [{'token': 'ERGO', 'value': 50},\n",
       "  {'token': 'rsBTC', 'value': 20},\n",
       "  {'token': 'SigUSD', 'value': 10},\n",
       "  {'token': 'RSN', 'value': 10},\n",
       "  {'token': 'CYPX', 'value': 10},\n",
       "  {'token': '', 'value': 0}],\n",
       " 'season': 0,\n",
       " 'type': 'Miner ID',\n",
       " 'fan_club': 'QX'}"
      ]
     },
     "execution_count": 7,
     "metadata": {},
     "output_type": "execute_result"
    }
   ],
   "source": [
    "find_tokens.get_token_description('5104822ac703509fb6790961d8d2b4afa4c75b9514abfd48ca8bf83639d30574')"
   ]
  },
  {
   "cell_type": "code",
   "execution_count": 8,
   "id": "7d6f3315-dce3-466e-888a-9164b99f03d9",
   "metadata": {},
   "outputs": [],
   "source": [
    "token = find_tokens.get_latest_miner_id(wallet)\n"
   ]
  },
  {
   "cell_type": "code",
   "execution_count": 9,
   "id": "6b0fad14-edc6-427b-94a6-ae7ee06f0bd9",
   "metadata": {},
   "outputs": [
    {
     "ename": "KeyError",
     "evalue": "0",
     "output_type": "error",
     "traceback": [
      "\u001b[0;31m---------------------------------------------------------------------------\u001b[0m",
      "\u001b[0;31mKeyError\u001b[0m                                  Traceback (most recent call last)",
      "Cell \u001b[0;32mIn[9], line 1\u001b[0m\n\u001b[0;32m----> 1\u001b[0m miner_id \u001b[38;5;241m=\u001b[39m \u001b[43mfind_tokens\u001b[49m\u001b[38;5;241;43m.\u001b[39;49m\u001b[43mget_token_description\u001b[49m\u001b[43m(\u001b[49m\u001b[43mtoken\u001b[49m\u001b[43m[\u001b[49m\u001b[38;5;124;43m'\u001b[39;49m\u001b[38;5;124;43mtokenId\u001b[39;49m\u001b[38;5;124;43m'\u001b[39;49m\u001b[43m]\u001b[49m\u001b[43m)\u001b[49m\u001b[43m[\u001b[49m\u001b[38;5;241;43m0\u001b[39;49m\u001b[43m]\u001b[49m\n\u001b[1;32m      2\u001b[0m miner_id\n",
      "\u001b[0;31mKeyError\u001b[0m: 0"
     ]
    }
   ],
   "source": [
    "miner_id = find_tokens.get_token_description(token['tokenId'])[0]\n",
    "miner_id"
   ]
  },
  {
   "cell_type": "code",
   "execution_count": null,
   "id": "17771224-6f78-4115-a54d-a57d18450ae5",
   "metadata": {},
   "outputs": [],
   "source": [
    "import json\n",
    "\n",
    "miner_id = json.loads(miner_id)\n",
    "miner_id"
   ]
  },
  {
   "cell_type": "code",
   "execution_count": null,
   "id": "820f7c6a-6b58-49a9-a42e-ab613b3ae9fe",
   "metadata": {},
   "outputs": [],
   "source": []
  }
 ],
 "metadata": {
  "kernelspec": {
   "display_name": "Python 3 (ipykernel)",
   "language": "python",
   "name": "python3"
  },
  "language_info": {
   "codemirror_mode": {
    "name": "ipython",
    "version": 3
   },
   "file_extension": ".py",
   "mimetype": "text/x-python",
   "name": "python",
   "nbconvert_exporter": "python",
   "pygments_lexer": "ipython3",
   "version": "3.10.12"
  }
 },
 "nbformat": 4,
 "nbformat_minor": 5
}
