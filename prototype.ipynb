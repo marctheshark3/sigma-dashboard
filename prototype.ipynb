{
 "cells": [
  {
   "cell_type": "code",
   "execution_count": 32,
   "id": "08be9b2e-c591-47c4-a307-9e3be932d562",
   "metadata": {},
   "outputs": [],
   "source": [
    "import requests\n",
    "import yaml\n",
    "\n",
    "def get_yaml_content(file_url):\n",
    "    try:\n",
    "        # Send a GET request to the URL\n",
    "        response = requests.get(file_url)\n",
    "\n",
    "        # Check if the request was successful (status code 200)\n",
    "        if response.status_code == 200:\n",
    "            # Parse the response content as YAML\n",
    "            return yaml.safe_load(response.content)\n",
    "        else:\n",
    "            print(f\"Failed to retrieve file: Status code {response.status_code}\")\n",
    "            return None\n",
    "    except requests.exceptions.RequestException as e:\n",
    "        # Handle any exceptions that occur during the request\n",
    "        print(f\"An error occurred: {e}\")\n",
    "        return None\n",
    "    except yaml.YAMLError as e:\n",
    "        # Handle any exceptions that occur during YAML parsing\n",
    "        print(f\"Failed to parse YAML: {e}\")\n",
    "        return None"
   ]
  },
  {
   "cell_type": "code",
   "execution_count": 33,
   "id": "820f7c6a-6b58-49a9-a42e-ab613b3ae9fe",
   "metadata": {},
   "outputs": [],
   "source": [
    "url ='https://raw.githubusercontent.com/marctheshark3/ergo-fan-clubs/main/pool/conf.yaml'"
   ]
  },
  {
   "cell_type": "code",
   "execution_count": 34,
   "id": "3d969571-018e-4903-a9d2-de5462268aed",
   "metadata": {},
   "outputs": [
    {
     "data": {
      "text/plain": [
       "{'background_color': 'orange',\n",
       " 'secondary_color': 'black',\n",
       " 'large_text_color': 'white',\n",
       " 'small_text_color': 'white',\n",
       " 'shares': 'min_payout.png',\n",
       " 'balance': 'triangle.png',\n",
       " 'total_paid': 'ergo.png',\n",
       " 'last_payment': 'coins.png',\n",
       " 'price': 'ergo.png',\n",
       " 'schema': 'ergo.png',\n",
       " 'participation': 'percentage.png',\n",
       " 'paid_today': 'ergo.png',\n",
       " 'payment_link': 'ergo.png',\n",
       " 'minimum_payout': 'min_payout.png',\n",
       " 'pool_fee': 'percentage.png',\n",
       " 'pool_hashrate': 'boltz.png',\n",
       " 'pool_effort': 'ergo.png',\n",
       " 'num_blocks_found': 'ergo.png',\n",
       " 'miners_online': 'smileys.png',\n",
       " 'network_hashrate': 'bolt.png',\n",
       " 'network_difficulty': 'gauge.png',\n",
       " 'block_height': 'height.png',\n",
       " 'ergo': 'ergo.png',\n",
       " 'sigusd': 'ergo.png',\n",
       " 'rosen': 'rosen.png',\n",
       " 'comet': 'ergo.png',\n",
       " 'cyberverse': 'ergo.png',\n",
       " 'rsBTC': 'ergo.png',\n",
       " 'rsADA': 'ergo.png',\n",
       " 'bobber': 'ergo.png',\n",
       " 'love': 'ergo.png',\n",
       " 'block_found': 'block_found.gif'}"
      ]
     },
     "execution_count": 34,
     "metadata": {},
     "output_type": "execute_result"
    }
   ],
   "source": [
    "get_yaml_content(url)"
   ]
  },
  {
   "cell_type": "code",
   "execution_count": 14,
   "id": "6c40ed7a-f6e6-4dfc-beb9-8ba6a5350af7",
   "metadata": {},
   "outputs": [
    {
     "ename": "NameError",
     "evalue": "name 'bottom_row_style' is not defined",
     "output_type": "error",
     "traceback": [
      "\u001b[0;31m---------------------------------------------------------------------------\u001b[0m",
      "\u001b[0;31mNameError\u001b[0m                                 Traceback (most recent call last)",
      "Cell \u001b[0;32mIn[14], line 42\u001b[0m\n\u001b[1;32m     36\u001b[0m \u001b[38;5;28;01mdef\u001b[39;00m \u001b[38;5;21mcreate_row_card\u001b[39m(h2_text, p_text, style, image\u001b[38;5;241m=\u001b[39m\u001b[38;5;28;01mNone\u001b[39;00m):\n\u001b[1;32m     37\u001b[0m     \u001b[38;5;28;01mreturn\u001b[39;00m dbc\u001b[38;5;241m.\u001b[39mCol(dbc\u001b[38;5;241m.\u001b[39mCard(style, children\u001b[38;5;241m=\u001b[39m[\n\u001b[1;32m     38\u001b[0m         \u001b[38;5;66;03m# html.Img(src=image, style=top_image_style),\u001b[39;00m\n\u001b[1;32m     39\u001b[0m         html\u001b[38;5;241m.\u001b[39mH2(h2_text, style\u001b[38;5;241m=\u001b[39m{\u001b[38;5;124m'\u001b[39m\u001b[38;5;124mcolor\u001b[39m\u001b[38;5;124m'\u001b[39m: \u001b[38;5;124m'\u001b[39m\u001b[38;5;124m#ff5e18\u001b[39m\u001b[38;5;124m'\u001b[39m}),\n\u001b[1;32m     40\u001b[0m         html\u001b[38;5;241m.\u001b[39mP(p_text)]),)\n\u001b[0;32m---> 42\u001b[0m \u001b[38;5;28;01mdef\u001b[39;00m \u001b[38;5;21mcreate_image_text_block\u001b[39m(text, image\u001b[38;5;241m=\u001b[39m\u001b[38;5;28;01mNone\u001b[39;00m, block_style\u001b[38;5;241m=\u001b[39m\u001b[43mbottom_row_style\u001b[49m, image_style\u001b[38;5;241m=\u001b[39mbottom_image_style):\n\u001b[1;32m     43\u001b[0m     \u001b[38;5;28;01mif\u001b[39;00m image:\n\u001b[1;32m     44\u001b[0m         \u001b[38;5;28;01mreturn\u001b[39;00m html\u001b[38;5;241m.\u001b[39mDiv(style\u001b[38;5;241m=\u001b[39mblock_style, children\u001b[38;5;241m=\u001b[39m[\n\u001b[1;32m     45\u001b[0m                         html\u001b[38;5;241m.\u001b[39mImg(src\u001b[38;5;241m=\u001b[39m\u001b[38;5;124m'\u001b[39m\u001b[38;5;124massets/\u001b[39m\u001b[38;5;132;01m{}\u001b[39;00m\u001b[38;5;124m'\u001b[39m\u001b[38;5;241m.\u001b[39mformat(image), style\u001b[38;5;241m=\u001b[39mimage_style),\n\u001b[1;32m     46\u001b[0m                         html\u001b[38;5;241m.\u001b[39mSpan(text, style\u001b[38;5;241m=\u001b[39m{\u001b[38;5;124m'\u001b[39m\u001b[38;5;124mpadding\u001b[39m\u001b[38;5;124m'\u001b[39m: \u001b[38;5;124m'\u001b[39m\u001b[38;5;124m10px\u001b[39m\u001b[38;5;124m'\u001b[39m, \u001b[38;5;124m'\u001b[39m\u001b[38;5;124mwidth\u001b[39m\u001b[38;5;124m'\u001b[39m: \u001b[38;5;124m'\u001b[39m\u001b[38;5;124m100\u001b[39m\u001b[38;5;124m%\u001b[39m\u001b[38;5;124m'\u001b[39m, \u001b[38;5;124m'\u001b[39m\u001b[38;5;124mheight\u001b[39m\u001b[38;5;124m'\u001b[39m: \u001b[38;5;124m'\u001b[39m\u001b[38;5;124mauto\u001b[39m\u001b[38;5;124m'\u001b[39m})])\n",
      "\u001b[0;31mNameError\u001b[0m: name 'bottom_row_style' is not defined"
     ]
    }
   ],
   "source": [
    "def set_theme(url):\n",
    "    data = get_yaml_content(url)\n",
    "\n",
    "    card_color = config['secondary_color'] # '#27374D'\n",
    "    background_color = config['background_color'] #'#526D82'\n",
    "    large_text_color = config['large_text_color'] # '#9DB2BF' \n",
    "    small_text_color = config['small_text_color'] # '#DDE6ED'\n",
    "\n",
    "    top_card_style = {'backgroundColor': card_color, 'color': small_text_color, 'padding': '20px',}\n",
    "    \n",
    "    card_style = {'border': '1px solid {}'.format('#292929'), 'backgroundColor': card_color, 'color': 'white',\n",
    "                  'padding': '15x', 'textAlign': 'center', 'justifyContent': 'center'}\n",
    "    \n",
    "    table_style = {'backgroundColor': card_color, 'color': large_text_color,\n",
    "                   'fontWeight': 'bold', 'textAlign': 'center', 'border': '1px solid black',}\n",
    "    \n",
    "    top_row_style = {'backgroundColor': card_color,\n",
    "                     'color': 'white',\n",
    "                     'display': 'flex',\n",
    "                     'padding': '20px',\n",
    "                     'height': 'auto',\n",
    "                     'justifyContent': 'flex-start',}\n",
    "    \n",
    "    bottom_row_style = {\n",
    "                        'backgroundColor': card_color,\n",
    "                        'color': 'white',\n",
    "                        'padding': '20x',\n",
    "                        'display': 'flex',\n",
    "                        'alignItems': 'left',\n",
    "                        'justifyContent': 'left',\n",
    "                        'fontSize': '14px',\n",
    "                    }\n",
    "    return top_card_style, card_style, table_style, top_row_style, bottom_row_style\n",
    "    \n",
    "    \n",
    "def create_row_card(h2_text, p_text, style, image=None):\n",
    "    return dbc.Col(dbc.Card(style, children=[\n",
    "        # html.Img(src=image, style=top_image_style),\n",
    "        html.H2(h2_text, style={'color': '#ff5e18'}),\n",
    "        html.P(p_text)]),)\n",
    "    \n",
    "def create_image_text_block(text, image=None, block_style=bottom_row_style, image_style=bottom_image_style):\n",
    "    if image:\n",
    "        return html.Div(style=block_style, children=[\n",
    "                        html.Img(src='assets/{}'.format(image), style=image_style),\n",
    "                        html.Span(text, style={'padding': '10px', 'width': '100%', 'height': 'auto'})])\n",
    "    else:\n",
    "        return html.Div(style=block_style, children=[\n",
    "                        html.Span(text, style={'padding': '10px', 'width': '100%', 'height': 'auto'})])"
   ]
  },
  {
   "cell_type": "code",
   "execution_count": null,
   "id": "49de6fe5-a309-41b9-a237-09ac16d2d343",
   "metadata": {},
   "outputs": [],
   "source": [
    "52"
   ]
  }
 ],
 "metadata": {
  "kernelspec": {
   "display_name": "Python 3 (ipykernel)",
   "language": "python",
   "name": "python3"
  },
  "language_info": {
   "codemirror_mode": {
    "name": "ipython",
    "version": 3
   },
   "file_extension": ".py",
   "mimetype": "text/x-python",
   "name": "python",
   "nbconvert_exporter": "python",
   "pygments_lexer": "ipython3",
   "version": "3.10.12"
  }
 },
 "nbformat": 4,
 "nbformat_minor": 5
}
