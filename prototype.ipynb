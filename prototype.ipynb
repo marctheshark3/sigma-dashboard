{
 "cells": [
  {
   "cell_type": "code",
   "execution_count": 1,
   "id": "bfa94de8-cd42-4439-839f-fe411e025a48",
   "metadata": {},
   "outputs": [],
   "source": [
    "import requests\n",
    "\n",
    "from utils.find_miner_id import ReadTokens"
   ]
  },
  {
   "cell_type": "markdown",
   "id": "cc2b6d5e-fac5-4080-87e2-1088f7b66f72",
   "metadata": {},
   "source": [
    "## TO DO\n",
    "\n",
    "Miners will have various NFT's in wallet and we search for the token name:\n",
    "if we find it, we grab the token-ID, we find out who minted this token, if the minter is the person who currently has the NFT we can assume this person is the miner setting their parameters."
   ]
  },
  {
   "cell_type": "code",
   "execution_count": 6,
   "id": "b68e8f14-e659-4189-baa1-64045afb15f0",
   "metadata": {},
   "outputs": [
    {
     "name": "stdout",
     "output_type": "stream",
     "text": [
      "{'tokenId': '9a06d9e545a41fd51eeffc5e20d818073bf820c635e2a9d922269913e0de369d', 'index': 0, 'amount': 8667229, 'name': 'SPF', 'decimals': 6, 'type': 'EIP-004'}\n",
      "{'tokenId': '9a06d9e545a41fd51eeffc5e20d818073bf820c635e2a9d922269913e0de369d', 'index': 0, 'amount': 8621920, 'name': 'SPF', 'decimals': 6, 'type': 'EIP-004'}\n",
      "{'tokenId': '9a06d9e545a41fd51eeffc5e20d818073bf820c635e2a9d922269913e0de369d', 'index': 0, 'amount': 35322753, 'name': 'SPF', 'decimals': 6, 'type': 'EIP-004'}\n",
      "{'tokenId': '089990451bb430f05a85f4ef3bcb6ebf852b3d6ee68d86d78658b9ccef20074f', 'index': 1, 'amount': 81058966, 'name': 'QUACKS', 'decimals': 6, 'type': 'EIP-004'}\n",
      "{'tokenId': 'a24b57a4b9a8122a52c5d92a6250b7ed5df134e660f3e3946770858a3fc46eb7', 'index': 0, 'amount': 1, 'name': 'Sigmanaut Mining Pool Miner ID - Season 0', 'decimals': 0, 'type': 'EIP-004'}\n",
      "{'tokenId': '9a06d9e545a41fd51eeffc5e20d818073bf820c635e2a9d922269913e0de369d', 'index': 0, 'amount': 8621920, 'name': 'SPF', 'decimals': 6, 'type': 'EIP-004'}\n",
      "{'tokenId': '9a06d9e545a41fd51eeffc5e20d818073bf820c635e2a9d922269913e0de369d', 'index': 0, 'amount': 8621920, 'name': 'SPF', 'decimals': 6, 'type': 'EIP-004'}\n",
      "{'tokenId': '089990451bb430f05a85f4ef3bcb6ebf852b3d6ee68d86d78658b9ccef20074f', 'index': 0, 'amount': 81058966, 'name': 'QUACKS', 'decimals': 6, 'type': 'EIP-004'}\n",
      "{'tokenId': '9a06d9e545a41fd51eeffc5e20d818073bf820c635e2a9d922269913e0de369d', 'index': 0, 'amount': 8621920, 'name': 'SPF', 'decimals': 6, 'type': 'EIP-004'}\n",
      "{'tokenId': '9a06d9e545a41fd51eeffc5e20d818073bf820c635e2a9d922269913e0de369d', 'index': 0, 'amount': 8621920, 'name': 'SPF', 'decimals': 6, 'type': 'EIP-004'}\n",
      "{'tokenId': '9a06d9e545a41fd51eeffc5e20d818073bf820c635e2a9d922269913e0de369d', 'index': 0, 'amount': 8673215, 'name': 'SPF', 'decimals': 6, 'type': 'EIP-004'}\n",
      "{'tokenId': 'b0b312cde931c8bbdac0dac5bfd8e2c03bf4611275dc967988c8d15bd5ec20e0', 'index': 0, 'amount': 3400, 'name': 'Bober', 'decimals': 3, 'type': 'EIP-004'}\n",
      "{'tokenId': '01bf775d39ea0b1e04e0cd90625180271ec64020fd8f833f56e3e20794656e56', 'index': 0, 'amount': 9600000, 'name': '👽🚀', 'decimals': 0, 'type': 'EIP-004'}\n",
      "{'tokenId': '01dce8a5632d19799950ff90bca3b5d0ca3ebfa8aaafd06f0cc6dd1e97150e7f', 'index': 0, 'amount': 2730000, 'name': 'CYPX', 'decimals': 4, 'type': 'EIP-004'}\n",
      "{'tokenId': '3405d8f709a19479839597f9a22a7553bdfc1a590a427572787d7c44a88b6386', 'index': 0, 'amount': 20, 'name': 'love', 'decimals': 0, 'type': 'EIP-004'}\n",
      "{'tokenId': '9a06d9e545a41fd51eeffc5e20d818073bf820c635e2a9d922269913e0de369d', 'index': 0, 'amount': 8662820, 'name': 'SPF', 'decimals': 6, 'type': 'EIP-004'}\n",
      "{'tokenId': '9a06d9e545a41fd51eeffc5e20d818073bf820c635e2a9d922269913e0de369d', 'index': 0, 'amount': 8737166, 'name': 'SPF', 'decimals': 6, 'type': 'EIP-004'}\n",
      "{'tokenId': '1465c9b9de602bd75f8f38df83118e2c8b1d5b2f5518514dd1438149053652a8', 'index': 0, 'amount': 30000000, 'name': 'Dark Erdoge', 'decimals': 6, 'type': 'EIP-004'}\n",
      "{'tokenId': '9a06d9e545a41fd51eeffc5e20d818073bf820c635e2a9d922269913e0de369d', 'index': 0, 'amount': 8613127, 'name': 'SPF', 'decimals': 6, 'type': 'EIP-004'}\n"
     ]
    },
    {
     "data": {
      "text/plain": [
       "{'address': '9ehJZvPDgvCNNd2zTQHxnSpcCAtb1kHbEN1VAgeoRD5DPVApYkk',\n",
       " 'height': 1290242,\n",
       " 'minimumPayout': 13,\n",
       " 'tokens': [{'token': 'ERGO', 'value': 75},\n",
       "  {'token': 'rsBTC', 'value': 15},\n",
       "  {'token': 'SigUSD', 'value': 10}],\n",
       " 'season': 0,\n",
       " 'type': 'Miner ID',\n",
       " 'fan_club': 'QX'}"
      ]
     },
     "execution_count": 6,
     "metadata": {},
     "output_type": "execute_result"
    }
   ],
   "source": [
    "\n",
    "url = 'https://api.ergo.aap.cornell.edu/api/v1/boxes/unspent/byAddress/'\n",
    "token_id = '5104822ac703509fb6790961d8d2b4afa4c75b9514abfd48ca8bf83639d30574'\n",
    "wallet = '9ehJZvPDgvCNNd2zTQHxnSpcCAtb1kHbEN1VAgeoRD5DPVApYkk'\n",
    "# wallet = '9eg7v2nkypUZbdyvSKSD9kg8FNwrEdTrfC2xdXWXmEpDAFEtYEn'\n",
    "\n",
    "find_tokens = ReadTokens(url)\n",
    "miner_id = find_tokens.get_latest_miner_id(wallet)\n",
    "miner_id"
   ]
  },
  {
   "cell_type": "code",
   "execution_count": null,
   "id": "4594df94-1053-49d4-8807-c5813ec8a084",
   "metadata": {},
   "outputs": [],
   "source": [
    "find_tokens.get_token_description('a24b57a4b9a8122a52c5d92a6250b7ed5df134e660f3e3946770858a3fc46eb7')"
   ]
  },
  {
   "cell_type": "code",
   "execution_count": 65,
   "id": "2d7198cf-3cb8-4fcb-b5c7-52fa65141dcd",
   "metadata": {},
   "outputs": [
    {
     "name": "stdout",
     "output_type": "stream",
     "text": [
      "1290164\n",
      "1291051\n"
     ]
    },
    {
     "data": {
      "text/plain": [
       "'5104822ac703509fb6790961d8d2b4afa4c75b9514abfd48ca8bf83639d30574'"
      ]
     },
     "execution_count": 65,
     "metadata": {},
     "output_type": "execute_result"
    }
   ],
   "source": [
    "# url = 'https://api.ergoplatform.com/api/v1/boxes/byTokenId/a24b57a4b9a8122a52c5d92a6250b7ed5df134e660f3e3946770858a3fc46eb7'\n",
    "url = 'https://api.ergoplatform.com/api/v1/boxes/byTokenId/5104822ac703509fb6790961d8d2b4afa4c75b9514abfd48ca8bf83639d30574'\n",
    "data = find_tokens.get_api_data(url)\n",
    "\n",
    "ls = []\n",
    "oldest_height = 1e30\n",
    "for item in data['items']:\n",
    "    print(item['creationHeight'])\n",
    "    if oldest_height > item['creationHeight']:\n",
    "        oldest_height = item['creationHeight']\n",
    "        ls = item['boxId'], item['creationHeight'], item['transactionId'], item['address']\n",
    "    # ls.append([item['boxId'], item['creationHeight'], item['transactionId'], item['address']])\n",
    "\n",
    "tx = ls[2]\n",
    "url = 'https://api.ergoplatform.com/api/v1/transactions'\n",
    "tx_url = '{}/{}'.format(url, tx)\n",
    "data = find_tokens.get_api_data(tx_url)\n",
    "box_id_first_input = data['inputs'][0]['boxId']\n",
    "box_id_first_input"
   ]
  },
  {
   "cell_type": "code",
   "execution_count": 67,
   "id": "d30da6e1-a886-4f2a-9922-cbff4a9c17e8",
   "metadata": {},
   "outputs": [
    {
     "data": {
      "text/plain": [
       "'9eg7v2nkypUZbdyvSKSD9kg8FNwrEdTrfC2xdXWXmEpDAFEtYEn'"
      ]
     },
     "execution_count": 67,
     "metadata": {},
     "output_type": "execute_result"
    }
   ],
   "source": [
    "outputs = data['outputs']\n",
    "\n",
    "for sample in outputs:\n",
    "    assets = sample['assets'][0]\n",
    "    if assets['tokenId'] == box_id_first_input:\n",
    "        minting_address = sample['address']\n",
    "        break\n",
    "\n",
    "minting_address"
   ]
  },
  {
   "cell_type": "code",
   "execution_count": 49,
   "id": "7d6f3315-dce3-466e-888a-9164b99f03d9",
   "metadata": {},
   "outputs": [
    {
     "data": {
      "text/plain": [
       "'5104822ac703509fb6790961d8d2b4afa4c75b9514abfd48ca8bf83639d30574'"
      ]
     },
     "execution_count": 49,
     "metadata": {},
     "output_type": "execute_result"
    }
   ],
   "source": [
    "data['outputs'][0]['assets'][0]['tokenId']"
   ]
  },
  {
   "cell_type": "code",
   "execution_count": null,
   "id": "6b0fad14-edc6-427b-94a6-ae7ee06f0bd9",
   "metadata": {},
   "outputs": [],
   "source": []
  }
 ],
 "metadata": {
  "kernelspec": {
   "display_name": "Python 3 (ipykernel)",
   "language": "python",
   "name": "python3"
  },
  "language_info": {
   "codemirror_mode": {
    "name": "ipython",
    "version": 3
   },
   "file_extension": ".py",
   "mimetype": "text/x-python",
   "name": "python",
   "nbconvert_exporter": "python",
   "pygments_lexer": "ipython3",
   "version": "3.10.12"
  }
 },
 "nbformat": 4,
 "nbformat_minor": 5
}
