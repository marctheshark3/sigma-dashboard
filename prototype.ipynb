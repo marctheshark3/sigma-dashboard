{
 "cells": [
  {
   "cell_type": "code",
   "execution_count": 1,
   "id": "9e4f1413-71a8-4b4c-8ca7-ed6d5cd46f9e",
   "metadata": {},
   "outputs": [
    {
     "ename": "ImportError",
     "evalue": "Unable to import required dependencies:\nnumpy: No module named 'numpy'",
     "output_type": "error",
     "traceback": [
      "\u001b[0;31m---------------------------------------------------------------------------\u001b[0m",
      "\u001b[0;31mImportError\u001b[0m                               Traceback (most recent call last)",
      "Cell \u001b[0;32mIn[1], line 1\u001b[0m\n\u001b[0;32m----> 1\u001b[0m \u001b[38;5;28;01mfrom\u001b[39;00m \u001b[38;5;21;01mutils\u001b[39;00m\u001b[38;5;21;01m.\u001b[39;00m\u001b[38;5;21;01mapi_reader\u001b[39;00m \u001b[38;5;28;01mimport\u001b[39;00m SigmaWalletReader\n",
      "File \u001b[0;32m~/Documents/ergo/sigma-dashboard/utils/api_reader.py:4\u001b[0m\n\u001b[1;32m      2\u001b[0m \u001b[38;5;28;01mfrom\u001b[39;00m \u001b[38;5;21;01mhydra\u001b[39;00m \u001b[38;5;28;01mimport\u001b[39;00m compose, initialize\n\u001b[1;32m      3\u001b[0m \u001b[38;5;28;01mfrom\u001b[39;00m \u001b[38;5;21;01momegaconf\u001b[39;00m \u001b[38;5;28;01mimport\u001b[39;00m DictConfig, OmegaConf\n\u001b[0;32m----> 4\u001b[0m \u001b[38;5;28;01mfrom\u001b[39;00m \u001b[38;5;21;01mpandas\u001b[39;00m \u001b[38;5;28;01mimport\u001b[39;00m DataFrame, concat, to_datetime\n\u001b[1;32m      5\u001b[0m \u001b[38;5;28;01mfrom\u001b[39;00m \u001b[38;5;21;01mpycoingecko\u001b[39;00m \u001b[38;5;28;01mimport\u001b[39;00m CoinGeckoAPI\n\u001b[1;32m      6\u001b[0m \u001b[38;5;28;01mfrom\u001b[39;00m \u001b[38;5;21;01mdatetime\u001b[39;00m \u001b[38;5;28;01mimport\u001b[39;00m datetime\n",
      "File \u001b[0;32m~/.local/lib/python3.10/site-packages/pandas/__init__.py:19\u001b[0m\n\u001b[1;32m     16\u001b[0m         _missing_dependencies\u001b[38;5;241m.\u001b[39mappend(\u001b[38;5;124mf\u001b[39m\u001b[38;5;124m\"\u001b[39m\u001b[38;5;132;01m{\u001b[39;00m_dependency\u001b[38;5;132;01m}\u001b[39;00m\u001b[38;5;124m: \u001b[39m\u001b[38;5;132;01m{\u001b[39;00m_e\u001b[38;5;132;01m}\u001b[39;00m\u001b[38;5;124m\"\u001b[39m)\n\u001b[1;32m     18\u001b[0m \u001b[38;5;28;01mif\u001b[39;00m _missing_dependencies:  \u001b[38;5;66;03m# pragma: no cover\u001b[39;00m\n\u001b[0;32m---> 19\u001b[0m     \u001b[38;5;28;01mraise\u001b[39;00m \u001b[38;5;167;01mImportError\u001b[39;00m(\n\u001b[1;32m     20\u001b[0m         \u001b[38;5;124m\"\u001b[39m\u001b[38;5;124mUnable to import required dependencies:\u001b[39m\u001b[38;5;130;01m\\n\u001b[39;00m\u001b[38;5;124m\"\u001b[39m \u001b[38;5;241m+\u001b[39m \u001b[38;5;124m\"\u001b[39m\u001b[38;5;130;01m\\n\u001b[39;00m\u001b[38;5;124m\"\u001b[39m\u001b[38;5;241m.\u001b[39mjoin(_missing_dependencies)\n\u001b[1;32m     21\u001b[0m     )\n\u001b[1;32m     22\u001b[0m \u001b[38;5;28;01mdel\u001b[39;00m _hard_dependencies, _dependency, _missing_dependencies\n\u001b[1;32m     24\u001b[0m \u001b[38;5;28;01mtry\u001b[39;00m:\n\u001b[1;32m     25\u001b[0m     \u001b[38;5;66;03m# numpy compat\u001b[39;00m\n",
      "\u001b[0;31mImportError\u001b[0m: Unable to import required dependencies:\nnumpy: No module named 'numpy'"
     ]
    }
   ],
   "source": [
    "from utils.api_reader import SigmaWalletReader"
   ]
  },
  {
   "cell_type": "code",
   "execution_count": null,
   "id": "9d97979d-020a-43d9-9f40-46114d65ceba",
   "metadata": {},
   "outputs": [],
   "source": [
    "reader = SigmaWalletReader(config_path=\"../conf\")"
   ]
  },
  {
   "cell_type": "code",
   "execution_count": null,
   "id": "29e42d9b-3327-46e2-b91e-7d10043950f6",
   "metadata": {},
   "outputs": [],
   "source": []
  },
  {
   "cell_type": "code",
   "execution_count": null,
   "id": "d86ed853-985b-40fc-8c89-1e2ea1f37ccd",
   "metadata": {},
   "outputs": [],
   "source": [
    "data = reader.get_api_data('http://15.204.211.130:4000/api/pools/ErgoSigmanauts/miners/')\n",
    "data"
   ]
  },
  {
   "cell_type": "code",
   "execution_count": null,
   "id": "372d7b7b-7723-4f53-9b66-1ad0848b4d1d",
   "metadata": {},
   "outputs": [],
   "source": [
    "miner_ls = []\n",
    "for sample in data:\n",
    "    miner_ls.append(sample['miner'])\n",
    "\n",
    "\n",
    "miner_ls"
   ]
  },
  {
   "cell_type": "code",
   "execution_count": null,
   "id": "3b4859c6-b30f-428c-b51a-fb99afdbbf26",
   "metadata": {},
   "outputs": [],
   "source": [
    "miners = {}\n",
    "for sample in data:\n",
    "    miners[sample['miner']] = 0\n",
    "for key in miners.keys():\n",
    "    url = '{}/{}'.format('http://15.204.211.130:4000/api/pools/ErgoSigmanauts/miners', key)\n",
    "    sample = reader.get_api_data(url)\n",
    "    miners[key] = sample['pendingShares']\n",
    "miners"
   ]
  },
  {
   "cell_type": "code",
   "execution_count": null,
   "id": "4ddb876b-3406-43e6-bc1c-8de577282b07",
   "metadata": {},
   "outputs": [],
   "source": [
    "# Total of all values\n",
    "total = sum(miners.values())\n",
    "\n",
    "# Assume a reward variable, say 10000 for this example\n",
    "reward = 30\n",
    "\n",
    "# Calculate the percentage for each key based on its value and then determine the reward based on this percentage\n",
    "rewards = {key: (value / total) * reward for key, value in miners.items()}\n",
    "\n",
    "rewards"
   ]
  },
  {
   "cell_type": "code",
   "execution_count": null,
   "id": "81777f3c-f7e5-4b00-a4da-188afd812e8d",
   "metadata": {},
   "outputs": [],
   "source": [
    "import pandas as pd\n",
    "rewards_df = pd.DataFrame(list(rewards.items()), columns=['miner', 'reward'])\n",
    "rewards_df"
   ]
  },
  {
   "cell_type": "code",
   "execution_count": null,
   "id": "948b1fe5-cce7-4184-94f8-f695cbab4ea0",
   "metadata": {
    "scrolled": true
   },
   "outputs": [],
   "source": [
    "url = 'http://15.204.211.130:4000/api/pools/ErgoSigmanauts/miners/9ehJZvPDgvCNNd2zTQHxnSpcCAtb1kHbEN1VAgeoRD5DPVApYkk'\n",
    "data = reader.get_api_data(url)\n",
    "samples = data['performanceSamples']\n",
    "samples"
   ]
  },
  {
   "cell_type": "code",
   "execution_count": null,
   "id": "789f6800-f713-4c1a-ad75-add4bab19249",
   "metadata": {},
   "outputs": [],
   "source": [
    "df = reader.get_miner_samples(wallet='9ehJZvPDgvCNNd2zTQHxnSpcCAtb1kHbEN1VAgeoRD5DPVApYkk')"
   ]
  },
  {
   "cell_type": "code",
   "execution_count": null,
   "id": "00445d3a-4718-47e0-8eda-26b9fd3ed2be",
   "metadata": {},
   "outputs": [],
   "source": [
    "df.empty"
   ]
  },
  {
   "cell_type": "code",
   "execution_count": null,
   "id": "78c58501-c375-412c-a9b7-562b77faa88d",
   "metadata": {},
   "outputs": [],
   "source": [
    "d = {'a': [1], \n",
    "     'b': [2]}\n",
    "pd.DataFrame.from_dict(d)"
   ]
  },
  {
   "cell_type": "code",
   "execution_count": null,
   "id": "e1020365-7984-4708-a8d4-1cdc35e27ce1",
   "metadata": {},
   "outputs": [],
   "source": [
    "import plotly.express as px\n",
    "\n",
    "fig = px.line(df, x='created', y='hashrate', color='worker', title='Hashrate Over Time for Each Worker')\n",
    "fig.show()\n"
   ]
  },
  {
   "cell_type": "code",
   "execution_count": null,
   "id": "552e7636-5ab0-42fc-a9bf-1c1e0a172e4f",
   "metadata": {},
   "outputs": [],
   "source": [
    "import numpy as np\n",
    "import matplotlib.pyplot as plt\n",
    "\n",
    "import random\n",
    "\n",
    "def generate_random_variable_list(n):\n",
    "    random_variable_list = []\n",
    "    for i in range(n):\n",
    "        random_variable = random.uniform(0.001, 5)\n",
    "        random_variable_list.append(random_variable)\n",
    "    return random_variable_list\n",
    "\n",
    "n = 10 # number of random variables\n",
    "y = generate_random_variable_list(n)\n",
    "\n",
    "x = [*range(0, n)]\n",
    "\n",
    "df = pd.DataFrame({'x': x, 'y':y})\n",
    "df['z'] = df['y'].expanding().mean()\n",
    "\n",
    "\n",
    "plt.plot(df['x'], df['y'], label='y')\n",
    "plt.plot(df['x'], df['z'], label='z')\n",
    "plt.xlabel('x')\n",
    "plt.ylabel('y and z')\n",
    "plt.title('Plotting y and z over x')\n",
    "plt.legend()\n",
    "plt.show()"
   ]
  },
  {
   "cell_type": "code",
   "execution_count": null,
   "id": "fd16a61e-1eb9-48d3-9d6f-ae5aba2e6df6",
   "metadata": {},
   "outputs": [],
   "source": [
    "df"
   ]
  },
  {
   "cell_type": "code",
   "execution_count": null,
   "id": "b29d277d-0d5f-4eb8-9951-ef4897d557c9",
   "metadata": {},
   "outputs": [],
   "source": [
    "df"
   ]
  },
  {
   "cell_type": "code",
   "execution_count": null,
   "id": "46455eb2-b42c-4882-95c1-fea1fe41b897",
   "metadata": {},
   "outputs": [],
   "source": [
    "n = df.melt(id_vars=['x'])\n",
    "n"
   ]
  },
  {
   "cell_type": "code",
   "execution_count": null,
   "id": "9a878db0-d159-4318-98c7-533574ddafed",
   "metadata": {},
   "outputs": [],
   "source": [
    "random.randrange(0,5)"
   ]
  },
  {
   "cell_type": "code",
   "execution_count": null,
   "id": "875331c5-c3b2-4d58-a517-7b4e25378622",
   "metadata": {},
   "outputs": [],
   "source": [
    "url ='http://15.204.211.130:4000/api/pools/ErgoSigmanauts'\n",
    "\n",
    "pool = reader.get_api_data(url)['pool']\n",
    "pool.keys()"
   ]
  },
  {
   "cell_type": "code",
   "execution_count": null,
   "id": "f9ea973a-0471-4330-af72-a6388acc59e2",
   "metadata": {},
   "outputs": [],
   "source": [
    "pool['poolEffort']"
   ]
  },
  {
   "cell_type": "code",
   "execution_count": null,
   "id": "04a2a4a7-219a-460a-aa59-20f3dee6b6cf",
   "metadata": {},
   "outputs": [],
   "source": [
    "payment_data = pool['paymentProcessing']\n",
    "del payment_data['enabled']\n",
    "del payment_data['payoutSchemeConfig']\n",
    "del payment_data['extra']"
   ]
  },
  {
   "cell_type": "code",
   "execution_count": null,
   "id": "c7addd0e-06cd-4573-910d-2b6948e64273",
   "metadata": {},
   "outputs": [],
   "source": [
    "payment_data"
   ]
  },
  {
   "cell_type": "code",
   "execution_count": null,
   "id": "4ec326f7-81aa-44e2-8d7e-59fa6236dd4f",
   "metadata": {},
   "outputs": [],
   "source": [
    "port_data = pool['ports']\n",
    "\n",
    "ls = []\n",
    "for port in port_data:\n",
    "    temp = port_data[port]\n",
    "    if 'pikes_peak' in temp['name']:\n",
    "        high_or_low = 'Greater Than 10GH/s'\n",
    "    else:\n",
    "        high_or_low = 'Lower Than 10GH/s'\n",
    "    ls.append([temp['name'], port, high_or_low, temp['tls']])\n",
    "df = pd.DataFrame(ls, columns=['Name', 'Port', 'Hashrate Threshold', 'TLS'])\n",
    "df"
   ]
  },
  {
   "cell_type": "code",
   "execution_count": null,
   "id": "5783369d-a845-464b-8b71-9e8367654aa7",
   "metadata": {},
   "outputs": [],
   "source": [
    "pool_fee = pool['poolFeePercent']\n",
    "pool_stats = pool['poolStats']\n",
    "net_stats = pool['networkStats']\n",
    "total_paid = pool['totalPaid']\n",
    "total_blocks = pool['totalBlocks']\n",
    "last_block_found = pool['lastPoolBlockTime']\n",
    "pool_effort = pool['poolEffort']"
   ]
  },
  {
   "cell_type": "code",
   "execution_count": null,
   "id": "633f2021-d800-4a91-8856-2df66b1d4a08",
   "metadata": {},
   "outputs": [],
   "source": [
    "net_stats\n",
    "del net_stats['connectedPeers']\n",
    "del net_stats['rewardType']\n",
    "del net_stats['networkType']"
   ]
  },
  {
   "cell_type": "code",
   "execution_count": null,
   "id": "7da87e9e-2f1b-4666-9dc0-07317362fc94",
   "metadata": {},
   "outputs": [],
   "source": [
    "pool_stats"
   ]
  },
  {
   "cell_type": "code",
   "execution_count": null,
   "id": "bb63de0b-8816-4168-bf78-06f494565f7c",
   "metadata": {},
   "outputs": [],
   "source": [
    "import dash"
   ]
  },
  {
   "cell_type": "code",
   "execution_count": null,
   "id": "cfbfee47-dfba-4e6f-957d-959e8ee5eb4a",
   "metadata": {},
   "outputs": [],
   "source": [
    "data = reader.get_front_page_data()"
   ]
  },
  {
   "cell_type": "code",
   "execution_count": null,
   "id": "fad6250d-b195-4de8-9cc4-856bb8882fb3",
   "metadata": {},
   "outputs": [],
   "source": [
    "data['poolHashrate'] = data['poolHashrate'] / 1e9 #GIGA\n",
    "data['poolHashrate'] "
   ]
  },
  {
   "cell_type": "code",
   "execution_count": null,
   "id": "2db9c6ad-154b-4340-bdfc-6db9a5dd4e70",
   "metadata": {},
   "outputs": [],
   "source": [
    "data"
   ]
  },
  {
   "cell_type": "code",
   "execution_count": null,
   "id": "7eb58bdc-ad12-4b33-8593-74be1ebcef08",
   "metadata": {},
   "outputs": [],
   "source": [
    "last_block_found"
   ]
  },
  {
   "cell_type": "code",
   "execution_count": null,
   "id": "175d7e4a-9a01-458e-a265-3eee1d16bebb",
   "metadata": {},
   "outputs": [],
   "source": [
    "df = reader.get_all_miner_data('9ehJZvPDgvCNNd2zTQHxnSpcCAtb1kHbEN1VAgeoRD5DPVApYkk')\n",
    "df"
   ]
  },
  {
   "cell_type": "code",
   "execution_count": null,
   "id": "4c016022-edd8-4876-8033-e1c4c9b252f4",
   "metadata": {},
   "outputs": [],
   "source": [
    "df[df.wallet == '9ehJZvPDgvCNNd2zTQHxnSpcCAtb1kHbEN1VAgeoRD5DPVApYkk']"
   ]
  },
  {
   "cell_type": "code",
   "execution_count": null,
   "id": "5cebf792-a5c3-4c17-b632-0ac384b23b3d",
   "metadata": {},
   "outputs": [],
   "source": [
    "from datetime import datetime\n",
    "import pytz\n",
    "\n",
    "def calculate_mining_effort(network_difficulty, network_hashrate, pool_hashrate, last_block_timestamp):\n",
    "    \"\"\"\n",
    "    Calculate the mining effort for the pool to find a block on Ergo blockchain based on the given timestamp.\n",
    "    \n",
    "    :param network_difficulty: The current difficulty of the Ergo network.\n",
    "    :param network_hashrate: The total hash rate of the Ergo network (in hashes per second).\n",
    "    :param pool_hashrate: The hash rate of the mining pool (in hashes per second).\n",
    "    :param last_block_timestamp: Timestamp of the last block found in ISO 8601 format.\n",
    "    :return: The estimated mining effort for the pool.\n",
    "    \"\"\"\n",
    "    # Parse the last block timestamp\n",
    "    time_format = '%Y-%m-%d %H:%M:%S' \n",
    "    last_block_time = datetime.strptime(last_block_timestamp, time_format)\n",
    "    last_block_time = last_block_time.replace(tzinfo=pytz.utc)  # Assume the timestamp is in UTC\n",
    "    \n",
    "    # Get the current time in UTC\n",
    "    now = datetime.now(pytz.utc)\n",
    "    \n",
    "    # Calculate the time difference in seconds\n",
    "    time_since_last_block = (now - last_block_time).total_seconds()\n",
    "    \n",
    "    # Hashes to find a block at current difficulty\n",
    "    hashes_to_find_block = network_difficulty  # This is a simplification\n",
    "    \n",
    "    # Total hashes by the network in the time since last block\n",
    "    total_network_hashes = network_hashrate * time_since_last_block\n",
    "    \n",
    "    # Pool's share of the total network hashes\n",
    "    pool_share_of_hashes = (pool_hashrate / network_hashrate) * total_network_hashes\n",
    "    \n",
    "    # Effort is the pool's share of hashes divided by the number of hashes to find a block\n",
    "    effort = pool_share_of_hashes / hashes_to_find_block\n",
    "    \n",
    "    return effort\n",
    "\n",
    "# Example usage:\n",
    "network_difficulty = 1.83e15  # Example difficulty\n",
    "network_hashrate = 15.4e12  # Example total network hash rate (1 PH/s)\n",
    "pool_hashrate = 13.3e9  # Example pool hash rate (100 TH/s)\n",
    "last_block_timestamp = \"2024-03-31 07:40:29\"\n",
    "\n",
    "effort = calculate_mining_effort(network_difficulty, network_hashrate, pool_hashrate, last_block_timestamp)\n",
    "print(f\"The estimated mining effort for the pool since the last block is: {effort}\")"
   ]
  },
  {
   "cell_type": "code",
   "execution_count": null,
   "id": "944ef89b-18af-497c-94de-c9e905763d88",
   "metadata": {},
   "outputs": [],
   "source": [
    "from datetime import datetime\n",
    "\n",
    "date_time_str = '2024-03-19 04:19:20'\n",
    "format = '%Y-%m-%d %H:%M:%S'  # Added a space between '%d' and '%H'\n",
    "date_time_obj = datetime.strptime(date_time_str, format)\n",
    "\n",
    "print(date_time_obj)"
   ]
  },
  {
   "cell_type": "code",
   "execution_count": null,
   "id": "192c454d-04e6-4d9a-b604-7e74cfbd5a33",
   "metadata": {},
   "outputs": [],
   "source": [
    "type(date_time_str)"
   ]
  },
  {
   "cell_type": "code",
   "execution_count": null,
   "id": "21e26329-64c6-4df0-a389-8b3cee19fa68",
   "metadata": {},
   "outputs": [],
   "source": [
    "miners = reader.get_miner_ls()\n",
    "data = []\n",
    "for miner in miners:\n",
    "    temp = reader.get_miner_samples(miner)\n",
    "    data.append(temp)\n",
    "\n",
    "df = pd.concat(data)"
   ]
  },
  {
   "cell_type": "code",
   "execution_count": null,
   "id": "c48a8d55-40e4-4e31-bd83-bc88efecf7cd",
   "metadata": {},
   "outputs": [],
   "source": [
    "df"
   ]
  },
  {
   "cell_type": "code",
   "execution_count": null,
   "id": "483b65a3-52bd-44a7-aff4-2dfb99e38320",
   "metadata": {},
   "outputs": [],
   "source": [
    "ls = []\n",
    "for date in df.created.unique():\n",
    "    temp = df[df.created == date]\n",
    "    ls.append([date, temp.hashrate.sum() /1e9])\n",
    "\n",
    "n = pd.DataFrame(ls, columns=['Date', 'Hashrate'])"
   ]
  },
  {
   "cell_type": "code",
   "execution_count": null,
   "id": "fc62e6bc-59fd-489f-8212-a7d0d58d938d",
   "metadata": {},
   "outputs": [],
   "source": [
    "n"
   ]
  },
  {
   "cell_type": "code",
   "execution_count": null,
   "id": "13d9541c-bdfc-41bc-bb94-273a213ae049",
   "metadata": {},
   "outputs": [],
   "source": [
    "df = reader.get_all_miner_data('9ehJZvPDgvCNNd2zTQHxnSpcCAtb1kHbEN1VAgeoRD5DPVApYkk')\n",
    "ls = []\n",
    "for miner in df.miner.unique():\n",
    "    temp = df[df.miner == miner]\n",
    "    ls.append([miner, temp.hashrate.sum(), temp.sharesPerSecond.sum()])\n",
    "\n",
    "d = pd.DataFrame(ls, columns=['Miner', 'Hashrate', 'SharesPerSecond'])\n",
    "d.Miner.unique()[0]"
   ]
  },
  {
   "cell_type": "code",
   "execution_count": null,
   "id": "586604e4-7657-446c-b7a5-682790405127",
   "metadata": {},
   "outputs": [],
   "source": [
    "latest = max(df.created)\n",
    "latest_data = df[df.created == latest]\n",
    "my_data = latest_data[latest_data.my_wallet == True]\n",
    "my_data = my_data.filter(['worker', 'hashrate', 'sharesPerSecond'])\n",
    "total_hash = my_data.hashrate.sum()\n",
    "total_shares = my_data.sharesPerSecond.sum()\n",
    "ls = ['Totals', total_hash, total_shares]\n",
    "\n",
    "d = pd.DataFrame([ls], columns=['worker', 'hashrate', 'sharesPerSecond'])\n",
    "data = pd.concat([my_data, d])\n",
    "data"
   ]
  },
  {
   "cell_type": "code",
   "execution_count": null,
   "id": "cdc7b9b0-df6d-43d0-be31-b0a98c6440e6",
   "metadata": {},
   "outputs": [],
   "source": [
    "data.hashrate"
   ]
  },
  {
   "cell_type": "code",
   "execution_count": null,
   "id": "807083a5-2e79-4a48-a899-b026caffbd91",
   "metadata": {},
   "outputs": [],
   "source": [
    "data['ttf'] = [reader.calculate_time_to_find_block(network_difficulty, network_hashrate, hash, latest) for hash in data.hashrate]\n",
    "data['effort'] = [reader.calculate_mining_effort(network_difficulty, network_hashrate, hash, latest) for hash in data.hashrate]"
   ]
  },
  {
   "cell_type": "code",
   "execution_count": null,
   "id": "cbbdeebd-227a-419d-ad7f-3da615fb4c05",
   "metadata": {},
   "outputs": [],
   "source": [
    "wallet ='9ehJZvPDgvCNNd2zTQHxnSpcCAtb1kHbEN1VAgeoRD5DPVApYkk'"
   ]
  },
  {
   "cell_type": "code",
   "execution_count": null,
   "id": "397d7fca-17f0-4d0a-b0d9-8bb40f18ecdb",
   "metadata": {},
   "outputs": [],
   "source": [
    "reader.get_all_miner_data(wallet)"
   ]
  },
  {
   "cell_type": "code",
   "execution_count": null,
   "id": "1b86a5dd-74da-4b79-8be6-a548c3c27556",
   "metadata": {},
   "outputs": [],
   "source": [
    "pool_df, _ = reader.get_pool_stats(wallet) \n",
    "mining_df, performance_df = reader.get_mining_stats(wallet)"
   ]
  },
  {
   "cell_type": "code",
   "execution_count": null,
   "id": "cf5f2d8a-13c5-43fa-a641-bf3b2fadaa0a",
   "metadata": {},
   "outputs": [],
   "source": [
    "mining_df"
   ]
  },
  {
   "cell_type": "code",
   "execution_count": null,
   "id": "cf76bab9-5ba5-4719-b0b0-3e48a344c273",
   "metadata": {},
   "outputs": [],
   "source": [
    "miners = reader.get_miner_ls()\n",
    "ls = []\n",
    "for miner in miners:\n",
    "    df, _ = reader.get_mining_stats(miner)\n",
    "    shares = df[df['Mining Stats'] == 'pendingShares'].Values[0]\n",
    "    ls.append([miner, shares])\n",
    "\n",
    "n_df = pd.DataFrame(ls, columns=['Miner', 'Shares'])\n"
   ]
  },
  {
   "cell_type": "code",
   "execution_count": null,
   "id": "1060c93a-1612-4fc0-a0d4-d327c8a1eff1",
   "metadata": {},
   "outputs": [],
   "source": [
    "total = n_df.Shares.sum()\n",
    "n_df['p'] = [shares / total for shares in n_df.Shares]\n",
    "n_df['r'] = n_df['p'] * 30"
   ]
  },
  {
   "cell_type": "code",
   "execution_count": null,
   "id": "b6a28994-d187-4c24-8528-b6863455b5ed",
   "metadata": {},
   "outputs": [],
   "source": [
    "n_df\n",
    "my_df = n_df[n_df.Miner == wallet]\n",
    "participation = my_df.p\n"
   ]
  },
  {
   "cell_type": "code",
   "execution_count": null,
   "id": "abe6a887-a300-48b5-8d0b-2ee11ba739f1",
   "metadata": {},
   "outputs": [],
   "source": [
    "participation.values[0]"
   ]
  },
  {
   "cell_type": "code",
   "execution_count": null,
   "id": "f17c2109-e58b-497e-8165-aec2abbfe3e7",
   "metadata": {},
   "outputs": [],
   "source": []
  }
 ],
 "metadata": {
  "kernelspec": {
   "display_name": "Python 3 (ipykernel)",
   "language": "python",
   "name": "python3"
  },
  "language_info": {
   "codemirror_mode": {
    "name": "ipython",
    "version": 3
   },
   "file_extension": ".py",
   "mimetype": "text/x-python",
   "name": "python",
   "nbconvert_exporter": "python",
   "pygments_lexer": "ipython3",
   "version": "3.10.12"
  }
 },
 "nbformat": 4,
 "nbformat_minor": 5
}
