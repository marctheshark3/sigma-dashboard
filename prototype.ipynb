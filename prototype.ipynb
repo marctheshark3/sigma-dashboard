{
 "cells": [
  {
   "cell_type": "code",
   "execution_count": 1,
   "id": "e0160c78-59fe-4756-98d7-240d9d35e2ca",
   "metadata": {},
   "outputs": [],
   "source": [
    "from utils.find_miner_id import ReadTokens"
   ]
  },
  {
   "cell_type": "code",
   "execution_count": 2,
   "id": "9e579757-ed13-4542-a385-ef3a859a551c",
   "metadata": {},
   "outputs": [],
   "source": [
    "reader = ReadTokens()"
   ]
  },
  {
   "cell_type": "code",
   "execution_count": 3,
   "id": "f2b206dc-a648-42fe-9aaa-e6b383a83516",
   "metadata": {},
   "outputs": [
    {
     "data": {
      "text/plain": [
       "{'address': '9eg7v2nkypUZbdyvSKSD9kg8FNwrEdTrfC2xdXWXmEpDAFEtYEn',\n",
       " 'height': 1324551,\n",
       " 'minimumPayout': 2,\n",
       " 'tokens': [{'token': 'Bober', 'value': 20},\n",
       "  {'token': 'RSN', 'value': 20},\n",
       "  {'token': 'ERGO', 'value': 60}],\n",
       " 'season': 0,\n",
       " 'type': 'Miner ID',\n",
       " 'fan_club': 'QX'}"
      ]
     },
     "execution_count": 3,
     "metadata": {},
     "output_type": "execute_result"
    }
   ],
   "source": [
    "wallet = '9eg7v2nkypUZbdyvSKSD9kg8FNwrEdTrfC2xdXWXmEpDAFEtYEn'\n",
    "data = reader.get_latest_miner_id(wallet)\n",
    "description = reader.get_token_description(data['tokenId'])\n",
    "description"
   ]
  },
  {
   "cell_type": "code",
   "execution_count": 4,
   "id": "deb340ae-f095-4e78-a24d-d860c5cecf9b",
   "metadata": {},
   "outputs": [
    {
     "data": {
      "text/plain": [
       "[{'tokenId': 'aa11470f16d9f13ed3073f497d7934a390b22a1400c8acead209406db38eb68a',\n",
       "  'amount': 1,\n",
       "  'decimals': 0,\n",
       "  'name': 'Sigmanaut Mining Pool Miner ID - Season 0'},\n",
       " {'tokenId': '8d319044d5a30ec285e74620ee67aa64be224f58cccd8f050e921d55637144a3',\n",
       "  'amount': 1,\n",
       "  'decimals': 0,\n",
       "  'name': 'Sigmanaut Mining Pool Miner ID - Season 0'},\n",
       " {'tokenId': '48c440d82c7749dbaa5ab8b6169f57d1ddafdf4e2f9380f4aad1aca12c64442e',\n",
       "  'amount': 1,\n",
       "  'decimals': 0,\n",
       "  'name': 'Sigmanaut Mining Pool Miner ID - Season 0'},\n",
       " {'tokenId': 'a8939dbf45202a30a9f098747e04a082dcacceb222c60d671dde721cff85991e',\n",
       "  'amount': 1,\n",
       "  'decimals': 0,\n",
       "  'name': 'Sigmanaut Mining Pool Miner ID - Season 0'},\n",
       " {'tokenId': '270619a2c297c0818e8afc59c8a0ae679fed0c3d91d9295384f4203f23db651a',\n",
       "  'amount': 1,\n",
       "  'decimals': 0,\n",
       "  'name': 'Sigmanaut Mining Pool Miner ID - Season 0'}]"
      ]
     },
     "execution_count": 4,
     "metadata": {},
     "output_type": "execute_result"
    }
   ],
   "source": [
    "possible_tokens = reader.find_token_name_in_wallet(wallet, 'Sigmanaut Mining Pool Miner ID - Season 0')\n",
    "possible_tokens"
   ]
  },
  {
   "cell_type": "code",
   "execution_count": 16,
   "id": "a5081987-0e0b-44b5-b8ca-8d03f0bc9b9c",
   "metadata": {},
   "outputs": [
    {
     "name": "stdout",
     "output_type": "stream",
     "text": [
      "aa11470f16d9f13ed3073f497d7934a390b22a1400c8acead209406db38eb68a id\n",
      "breakk aa11470f16d9f13ed3073f497d7934a390b22a1400c8acead209406db38eb68a 1324410\n",
      "8d319044d5a30ec285e74620ee67aa64be224f58cccd8f050e921d55637144a3 id\n",
      "breakk 8d319044d5a30ec285e74620ee67aa64be224f58cccd8f050e921d55637144a3 1308723\n",
      "48c440d82c7749dbaa5ab8b6169f57d1ddafdf4e2f9380f4aad1aca12c64442e id\n",
      "breakk 48c440d82c7749dbaa5ab8b6169f57d1ddafdf4e2f9380f4aad1aca12c64442e 1290168\n",
      "a8939dbf45202a30a9f098747e04a082dcacceb222c60d671dde721cff85991e id\n",
      "breakk a8939dbf45202a30a9f098747e04a082dcacceb222c60d671dde721cff85991e 1356351\n",
      "270619a2c297c0818e8afc59c8a0ae679fed0c3d91d9295384f4203f23db651a id\n",
      "breakk 270619a2c297c0818e8afc59c8a0ae679fed0c3d91d9295384f4203f23db651a 1324551\n"
     ]
    }
   ],
   "source": [
    "my_tokens = []\n",
    "miner_id = None\n",
    "earliest_height = 0\n",
    "for token in possible_tokens:\n",
    "    \n",
    "    id = token['tokenId']\n",
    "    print(id, 'id')\n",
    "    base_url = 'https://api.ergoplatform.com/api/v1/boxes/byTokenId'\n",
    "    url = '{}/{}'.format(base_url, id)\n",
    "    data = reader.get_api_data(url)\n",
    "    oldest_height = 1e30\n",
    "    # for a given token we want to find the earliest TX with it so we can see who minted it\n",
    "    for item in data['items']:\n",
    "        if oldest_height > item['creationHeight']:\n",
    "            oldest_height = item['creationHeight']\n",
    "            # ls = item['boxId'], item['creationHeight'], item['transactionId'], item['address']\n",
    "            tx = item['transactionId']\n",
    "    \n",
    "    # tx = ls[2]\n",
    "    wallet_minted_tokens = []\n",
    "    url = 'https://api.ergoplatform.com/api/v1/transactions'\n",
    "    tx_url = '{}/{}'.format(url, tx)\n",
    "    data = reader.get_api_data(tx_url)\n",
    "    # print(data)\n",
    "    box_id_first_input = data['inputs'][0]['boxId']\n",
    "    outputs = data['outputs']\n",
    "    # print(outputs, 'oi')\n",
    "    \n",
    "    for sample in outputs:\n",
    "        try:   \n",
    "            assets = sample['assets'][0]\n",
    "            if assets['tokenId'] == box_id_first_input:\n",
    "                minting_address = sample['address']\n",
    "                if wallet == minting_address:\n",
    "                    if sample['creationHeight'] > earliest_height:\n",
    "                        oldest_height = sample['creationHeight']\n",
    "                        my_tokens.append(token)\n",
    "                        miner_id = token\n",
    "                        print('breakk', miner_id['tokenId'], oldest_height)\n",
    "                        break\n",
    "        except IndexError:\n",
    "            pass"
   ]
  },
  {
   "cell_type": "code",
   "execution_count": 17,
   "id": "a44ca9d4-6c5d-4f87-9210-c74096490952",
   "metadata": {},
   "outputs": [
    {
     "data": {
      "text/plain": [
       "{'tokenId': '270619a2c297c0818e8afc59c8a0ae679fed0c3d91d9295384f4203f23db651a',\n",
       " 'amount': 1,\n",
       " 'decimals': 0,\n",
       " 'name': 'Sigmanaut Mining Pool Miner ID - Season 0'}"
      ]
     },
     "execution_count": 17,
     "metadata": {},
     "output_type": "execute_result"
    }
   ],
   "source": [
    "miner_id"
   ]
  },
  {
   "cell_type": "code",
   "execution_count": 18,
   "id": "f0e1533d-d907-408d-a2bf-ee1d3b1de334",
   "metadata": {},
   "outputs": [
    {
     "name": "stdout",
     "output_type": "stream",
     "text": [
      "aa11470f16d9f13ed3073f497d7934a390b22a1400c8acead209406db38eb68a id\n",
      "8d319044d5a30ec285e74620ee67aa64be224f58cccd8f050e921d55637144a3 id\n",
      "48c440d82c7749dbaa5ab8b6169f57d1ddafdf4e2f9380f4aad1aca12c64442e id\n",
      "a8939dbf45202a30a9f098747e04a082dcacceb222c60d671dde721cff85991e id\n",
      "270619a2c297c0818e8afc59c8a0ae679fed0c3d91d9295384f4203f23db651a id\n",
      "Most recent token: {'tokenId': 'a8939dbf45202a30a9f098747e04a082dcacceb222c60d671dde721cff85991e', 'amount': 1, 'decimals': 0, 'name': 'Sigmanaut Mining Pool Miner ID - Season 0'}\n",
      "All tokens minted by the wallet: [{'tokenId': 'aa11470f16d9f13ed3073f497d7934a390b22a1400c8acead209406db38eb68a', 'amount': 1, 'decimals': 0, 'name': 'Sigmanaut Mining Pool Miner ID - Season 0'}, {'tokenId': '8d319044d5a30ec285e74620ee67aa64be224f58cccd8f050e921d55637144a3', 'amount': 1, 'decimals': 0, 'name': 'Sigmanaut Mining Pool Miner ID - Season 0'}, {'tokenId': '48c440d82c7749dbaa5ab8b6169f57d1ddafdf4e2f9380f4aad1aca12c64442e', 'amount': 1, 'decimals': 0, 'name': 'Sigmanaut Mining Pool Miner ID - Season 0'}, {'tokenId': 'a8939dbf45202a30a9f098747e04a082dcacceb222c60d671dde721cff85991e', 'amount': 1, 'decimals': 0, 'name': 'Sigmanaut Mining Pool Miner ID - Season 0'}, {'tokenId': '270619a2c297c0818e8afc59c8a0ae679fed0c3d91d9295384f4203f23db651a', 'amount': 1, 'decimals': 0, 'name': 'Sigmanaut Mining Pool Miner ID - Season 0'}]\n",
      "Number of tokens minted by the wallet: 5\n"
     ]
    }
   ],
   "source": [
    "my_tokens = []\n",
    "most_recent_token = None\n",
    "highest_creation_height = 0\n",
    "\n",
    "for token in possible_tokens:\n",
    "    token_id = token['tokenId']\n",
    "    print(token_id, 'id')\n",
    "    \n",
    "    # Get boxes by token ID\n",
    "    boxes_url = f'https://api.ergoplatform.com/api/v1/boxes/byTokenId/{token_id}'\n",
    "    boxes_data = reader.get_api_data(boxes_url)\n",
    "    \n",
    "    # Find the earliest transaction for this token\n",
    "    earliest_tx = min(boxes_data['items'], key=lambda x: x['creationHeight'])\n",
    "    earliest_tx_id = earliest_tx['transactionId']\n",
    "    \n",
    "    # Get transaction details\n",
    "    tx_url = f'https://api.ergoplatform.com/api/v1/transactions/{earliest_tx_id}'\n",
    "    tx_data = reader.get_api_data(tx_url)\n",
    "    \n",
    "    box_id_first_input = tx_data['inputs'][0]['boxId']\n",
    "    \n",
    "    # Check outputs for minting information\n",
    "    for output in tx_data['outputs']:\n",
    "        assets = output.get('assets', [])\n",
    "        if assets and assets[0]['tokenId'] == box_id_first_input:\n",
    "            minting_address = output['address']\n",
    "            creation_height = output['creationHeight']\n",
    "            \n",
    "            if minting_address == wallet:\n",
    "                my_tokens.append(token)\n",
    "                if creation_height > highest_creation_height:\n",
    "                    highest_creation_height = creation_height\n",
    "                    most_recent_token = token\n",
    "            break  # Found the minting output for this token, move to next token\n",
    "\n",
    "print(f\"Most recent token: {most_recent_token}\")\n",
    "print(f\"All tokens minted by the wallet: {my_tokens}\")\n",
    "print(f\"Number of tokens minted by the wallet: {len(my_tokens)}\")"
   ]
  },
  {
   "cell_type": "code",
   "execution_count": 19,
   "id": "f733901d-0387-487f-9f60-cfe7a19e90f7",
   "metadata": {},
   "outputs": [
    {
     "data": {
      "text/plain": [
       "{'tokenId': 'a8939dbf45202a30a9f098747e04a082dcacceb222c60d671dde721cff85991e',\n",
       " 'amount': 1,\n",
       " 'decimals': 0,\n",
       " 'name': 'Sigmanaut Mining Pool Miner ID - Season 0'}"
      ]
     },
     "execution_count": 19,
     "metadata": {},
     "output_type": "execute_result"
    }
   ],
   "source": [
    "most_recent_token"
   ]
  },
  {
   "cell_type": "code",
   "execution_count": null,
   "id": "45732b63-8ca3-499e-bc0e-080139338f32",
   "metadata": {},
   "outputs": [],
   "source": []
  }
 ],
 "metadata": {
  "kernelspec": {
   "display_name": "Python 3 (ipykernel)",
   "language": "python",
   "name": "python3"
  },
  "language_info": {
   "codemirror_mode": {
    "name": "ipython",
    "version": 3
   },
   "file_extension": ".py",
   "mimetype": "text/x-python",
   "name": "python",
   "nbconvert_exporter": "python",
   "pygments_lexer": "ipython3",
   "version": "3.10.12"
  }
 },
 "nbformat": 4,
 "nbformat_minor": 5
}
