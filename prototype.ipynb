{
 "cells": [
  {
   "cell_type": "code",
   "execution_count": 1,
   "id": "9e4f1413-71a8-4b4c-8ca7-ed6d5cd46f9e",
   "metadata": {},
   "outputs": [],
   "source": [
    "from utils.reader import SigmaWalletReader"
   ]
  },
  {
   "cell_type": "code",
   "execution_count": 3,
   "id": "9d97979d-020a-43d9-9f40-46114d65ceba",
   "metadata": {},
   "outputs": [],
   "source": [
    "reader = SigmaWalletReader(config_path=\"../conf\")"
   ]
  },
  {
   "cell_type": "code",
   "execution_count": 14,
   "id": "d86ed853-985b-40fc-8c89-1e2ea1f37ccd",
   "metadata": {},
   "outputs": [
    {
     "data": {
      "text/plain": [
       "[{'miner': '9i3P4Ah9jp7nnSNMg6gxjXXHEWjkkBbPJR5RLRkMwEt3DZZGLDL',\n",
       "  'hashrate': 4625794887,\n",
       "  'sharesPerSecond': 0.191},\n",
       " {'miner': '9ehJZvPDgvCNNd2zTQHxnSpcCAtb1kHbEN1VAgeoRD5DPVApYkk',\n",
       "  'hashrate': 3720011457,\n",
       "  'sharesPerSecond': 0.28},\n",
       " {'miner': '9fLYPigGHXkTyyQvU9zzoT3RTAXJ4dfHjbkg6ik2fHKKxjprSrh',\n",
       "  'hashrate': 2859231563,\n",
       "  'sharesPerSecond': 0.368},\n",
       " {'miner': '9gwk97nY8Uc6kLcSYs4ueWttY5EKyfsrbiyVQWFdUaWvd4Xhqys',\n",
       "  'hashrate': 2058094064,\n",
       "  'sharesPerSecond': 0.078},\n",
       " {'miner': '9gXo8m2VyHvQ3FGvCg1GNWfyM5uX27BEKNCXDjQ6GiFsMJw5Yto',\n",
       "  'hashrate': 2041300545,\n",
       "  'sharesPerSecond': 0.195},\n",
       " {'miner': '9i8wsL9HYe4wRtuxXtnvki31uGJd6avKoQ79BXbz2sHWNZSKz8K',\n",
       "  'hashrate': 1588108559,\n",
       "  'sharesPerSecond': 0.189},\n",
       " {'miner': '9hYeUWUG2dAM6sZb9vr5qgF1gACEGQPLN9cbXjxERmJS89Tbadc',\n",
       "  'hashrate': 493453494,\n",
       "  'sharesPerSecond': 0.081},\n",
       " {'miner': '9eZPTmn8zp5GJ7KZwTo8cEuxNdezWaY3hBbLeWid7EAZedzb9tD',\n",
       "  'hashrate': 385972568,\n",
       "  'sharesPerSecond': 0.067},\n",
       " {'miner': '9iQS22vfWdF2N84Lvv9jgAMFGLyL7t17SWbHGEfaddaG7ZbL3fJ',\n",
       "  'hashrate': 206998316,\n",
       "  'sharesPerSecond': 0.045}]"
      ]
     },
     "execution_count": 14,
     "metadata": {},
     "output_type": "execute_result"
    }
   ],
   "source": [
    "data = reader.get_api_data('http://15.204.211.130:4000/api/pools/ErgoSigmanauts/miners/')\n",
    "data"
   ]
  },
  {
   "cell_type": "code",
   "execution_count": 15,
   "id": "3b4859c6-b30f-428c-b51a-fb99afdbbf26",
   "metadata": {},
   "outputs": [
    {
     "data": {
      "text/plain": [
       "{'9i3P4Ah9jp7nnSNMg6gxjXXHEWjkkBbPJR5RLRkMwEt3DZZGLDL': 1089.6989656700998,\n",
       " '9ehJZvPDgvCNNd2zTQHxnSpcCAtb1kHbEN1VAgeoRD5DPVApYkk': 215.40987895261637,\n",
       " '9fLYPigGHXkTyyQvU9zzoT3RTAXJ4dfHjbkg6ik2fHKKxjprSrh': 830.3018207351076,\n",
       " '9gwk97nY8Uc6kLcSYs4ueWttY5EKyfsrbiyVQWFdUaWvd4Xhqys': 60.37660871058499,\n",
       " '9gXo8m2VyHvQ3FGvCg1GNWfyM5uX27BEKNCXDjQ6GiFsMJw5Yto': 238.3153853268594,\n",
       " '9i8wsL9HYe4wRtuxXtnvki31uGJd6avKoQ79BXbz2sHWNZSKz8K': 299.5908175413477,\n",
       " '9hYeUWUG2dAM6sZb9vr5qgF1gACEGQPLN9cbXjxERmJS89Tbadc': 84.37990128256372,\n",
       " '9eZPTmn8zp5GJ7KZwTo8cEuxNdezWaY3hBbLeWid7EAZedzb9tD': 93.02149425310822,\n",
       " '9iQS22vfWdF2N84Lvv9jgAMFGLyL7t17SWbHGEfaddaG7ZbL3fJ': 34.56415552733867}"
      ]
     },
     "execution_count": 15,
     "metadata": {},
     "output_type": "execute_result"
    }
   ],
   "source": [
    "miners = {}\n",
    "for sample in data:\n",
    "    miners[sample['miner']] = 0\n",
    "for key in miners.keys():\n",
    "    url = '{}/{}'.format('http://15.204.211.130:4000/api/pools/ErgoSigmanauts/miners', key)\n",
    "    sample = reader.get_api_data(url)\n",
    "    miners[key] = sample['pendingShares']\n",
    "miners"
   ]
  },
  {
   "cell_type": "code",
   "execution_count": 16,
   "id": "4ddb876b-3406-43e6-bc1c-8de577282b07",
   "metadata": {},
   "outputs": [
    {
     "data": {
      "text/plain": [
       "{'9i3P4Ah9jp7nnSNMg6gxjXXHEWjkkBbPJR5RLRkMwEt3DZZGLDL': 11.09801530298066,\n",
       " '9ehJZvPDgvCNNd2zTQHxnSpcCAtb1kHbEN1VAgeoRD5DPVApYkk': 2.1938372049011337,\n",
       " '9fLYPigGHXkTyyQvU9zzoT3RTAXJ4dfHjbkg6ik2fHKKxjprSrh': 8.45619074892343,\n",
       " '9gwk97nY8Uc6kLcSYs4ueWttY5EKyfsrbiyVQWFdUaWvd4Xhqys': 0.614904252019823,\n",
       " '9gXo8m2VyHvQ3FGvCg1GNWfyM5uX27BEKNCXDjQ6GiFsMJw5Yto': 2.4271178340219923,\n",
       " '9i8wsL9HYe4wRtuxXtnvki31uGJd6avKoQ79BXbz2sHWNZSKz8K': 3.05117613437558,\n",
       " '9hYeUWUG2dAM6sZb9vr5qgF1gACEGQPLN9cbXjxERmJS89Tbadc': 0.8593652606819067,\n",
       " '9eZPTmn8zp5GJ7KZwTo8cEuxNdezWaY3hBbLeWid7EAZedzb9tD': 0.9473753754481049,\n",
       " '9iQS22vfWdF2N84Lvv9jgAMFGLyL7t17SWbHGEfaddaG7ZbL3fJ': 0.352017886647365}"
      ]
     },
     "execution_count": 16,
     "metadata": {},
     "output_type": "execute_result"
    }
   ],
   "source": [
    "# Total of all values\n",
    "total = sum(miners.values())\n",
    "\n",
    "# Assume a reward variable, say 10000 for this example\n",
    "reward = 30\n",
    "\n",
    "# Calculate the percentage for each key based on its value and then determine the reward based on this percentage\n",
    "rewards = {key: (value / total) * reward for key, value in miners.items()}\n",
    "\n",
    "rewards"
   ]
  },
  {
   "cell_type": "code",
   "execution_count": null,
   "id": "81777f3c-f7e5-4b00-a4da-188afd812e8d",
   "metadata": {},
   "outputs": [],
   "source": []
  }
 ],
 "metadata": {
  "kernelspec": {
   "display_name": "Python 3 (ipykernel)",
   "language": "python",
   "name": "python3"
  },
  "language_info": {
   "codemirror_mode": {
    "name": "ipython",
    "version": 3
   },
   "file_extension": ".py",
   "mimetype": "text/x-python",
   "name": "python",
   "nbconvert_exporter": "python",
   "pygments_lexer": "ipython3",
   "version": "3.10.12"
  }
 },
 "nbformat": 4,
 "nbformat_minor": 5
}
