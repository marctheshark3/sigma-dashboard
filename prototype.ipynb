{
 "cells": [
  {
   "cell_type": "code",
   "execution_count": 1,
   "id": "bfa94de8-cd42-4439-839f-fe411e025a48",
   "metadata": {},
   "outputs": [],
   "source": [
    "import requests"
   ]
  },
  {
   "cell_type": "code",
   "execution_count": 7,
   "id": "5988380e-1c3b-4b3c-9873-bfbfcfa25f74",
   "metadata": {},
   "outputs": [],
   "source": [
    "class ReadTokens:\n",
    "    def __init__(self, api, token_id, token_ls_url='https://api.ergo.aap.cornell.edu/api/v1/tokens/'):\n",
    "        self.api = api\n",
    "        self.token_id = token_id\n",
    "        self.token_ls = token_ls_url\n",
    "\n",
    "    def get_api_data(self, api_url):\n",
    "        try:\n",
    "            # Send a GET request to the API\n",
    "            response = requests.get(api_url)\n",
    "    \n",
    "            # Check if the request was successful (status code 200)\n",
    "            if response.status_code == 200:\n",
    "                # Parse the response as JSON (assuming the API returns JSON data)\n",
    "                data = response.json()\n",
    "                return data\n",
    "            else:\n",
    "                print(f\"Failed to retrieve data: Status code {response.status_code}\")\n",
    "                return None\n",
    "    \n",
    "        except requests.exceptions.RequestException as e:\n",
    "            # Handle any exceptions that occur during the request\n",
    "            print(f\"An error occurred: {e}\")\n",
    "            return None\n",
    "\n",
    "    def find_token_in_wallet(self, wallet):\n",
    "        url = '{}/{}'.format(self.api, wallet)\n",
    "        wallet_data = self.get_api_data(url)\n",
    "\n",
    "        wallet_contents = wallet_data['items']\n",
    "        for contents in wallet_contents:\n",
    "            if contents['assets']:\n",
    "                for items in contents['assets']:\n",
    "                    token_id = items['tokenId']\n",
    "                    print(token_id)\n",
    "                    if token_id == self.token_id:\n",
    "                        return True\n",
    "        return False\n",
    "                        \n",
    "    def get_token_description(self):\n",
    "        url = '{}/{}'.format(self.token_ls, self.token_id)\n",
    "        data = self.get_api_data(url)\n",
    "\n",
    "        token_description = data['description']\n",
    "        return token_description, data"
   ]
  },
  {
   "cell_type": "code",
   "execution_count": 10,
   "id": "ccf05e25-b4ea-4ecd-b25e-b3b2abbb13d5",
   "metadata": {
    "scrolled": true
   },
   "outputs": [],
   "source": [
    "url = 'https://api.ergo.aap.cornell.edu/api/v1/boxes/byAddress/'\n",
    "token_id = 'd36cf1d772f6fa636e28e7db70aaa6a7f9baf07e4e0c1ccd79ad6dd1f625c47c'\n",
    "wallet = '9eg7v2nkypUZbdyvSKSD9kg8FNwrEdTrfC2xdXWXmEpDAFEtYEn'\n",
    "reader = ReadTokens(url, token_id)\n"
   ]
  },
  {
   "cell_type": "code",
   "execution_count": 11,
   "id": "28028b2c-4ce6-4137-a845-fe9f0a318f6d",
   "metadata": {
    "scrolled": true
   },
   "outputs": [
    {
     "name": "stdout",
     "output_type": "stream",
     "text": [
      "01dce8a5632d19799950ff90bca3b5d0ca3ebfa8aaafd06f0cc6dd1e97150e7f\n",
      "6ed546c6c771ec276bfc3bfbf44dff5884d7a9fc546c0fdfd029a08a281e9a3e\n",
      "fa76ac3f7b1511bb0ed25d58af6c849545c3bd8f73c08cb6ac778755b16d3a65\n",
      "01dce8a5632d19799950ff90bca3b5d0ca3ebfa8aaafd06f0cc6dd1e97150e7f\n",
      "6ed546c6c771ec276bfc3bfbf44dff5884d7a9fc546c0fdfd029a08a281e9a3e\n",
      "fa76ac3f7b1511bb0ed25d58af6c849545c3bd8f73c08cb6ac778755b16d3a65\n",
      "6ed546c6c771ec276bfc3bfbf44dff5884d7a9fc546c0fdfd029a08a281e9a3e\n",
      "fa76ac3f7b1511bb0ed25d58af6c849545c3bd8f73c08cb6ac778755b16d3a65\n",
      "6ed546c6c771ec276bfc3bfbf44dff5884d7a9fc546c0fdfd029a08a281e9a3e\n",
      "fa76ac3f7b1511bb0ed25d58af6c849545c3bd8f73c08cb6ac778755b16d3a65\n",
      "6ed546c6c771ec276bfc3bfbf44dff5884d7a9fc546c0fdfd029a08a281e9a3e\n",
      "fa76ac3f7b1511bb0ed25d58af6c849545c3bd8f73c08cb6ac778755b16d3a65\n",
      "01dce8a5632d19799950ff90bca3b5d0ca3ebfa8aaafd06f0cc6dd1e97150e7f\n",
      "6ed546c6c771ec276bfc3bfbf44dff5884d7a9fc546c0fdfd029a08a281e9a3e\n",
      "fa76ac3f7b1511bb0ed25d58af6c849545c3bd8f73c08cb6ac778755b16d3a65\n",
      "b7912b3d75e8faa02fdf17a9242ce9f087fb6453b9278fb19c57fe1af6235e0c\n",
      "01dce8a5632d19799950ff90bca3b5d0ca3ebfa8aaafd06f0cc6dd1e97150e7f\n",
      "6ed546c6c771ec276bfc3bfbf44dff5884d7a9fc546c0fdfd029a08a281e9a3e\n",
      "fa76ac3f7b1511bb0ed25d58af6c849545c3bd8f73c08cb6ac778755b16d3a65\n",
      "01dce8a5632d19799950ff90bca3b5d0ca3ebfa8aaafd06f0cc6dd1e97150e7f\n",
      "6ed546c6c771ec276bfc3bfbf44dff5884d7a9fc546c0fdfd029a08a281e9a3e\n",
      "fa76ac3f7b1511bb0ed25d58af6c849545c3bd8f73c08cb6ac778755b16d3a65\n",
      "123a3dae88b226ea2f2771ec70919fc252fba792aab4c415f23752225bbb49b1\n",
      "12fbc209fe1159019ea7430a315e9a73302e47fa2405888ad25270c5b71ce174\n",
      "b7912b3d75e8faa02fdf17a9242ce9f087fb6453b9278fb19c57fe1af6235e0c\n",
      "123a3dae88b226ea2f2771ec70919fc252fba792aab4c415f23752225bbb49b1\n",
      "01dce8a5632d19799950ff90bca3b5d0ca3ebfa8aaafd06f0cc6dd1e97150e7f\n",
      "6ed546c6c771ec276bfc3bfbf44dff5884d7a9fc546c0fdfd029a08a281e9a3e\n",
      "fa76ac3f7b1511bb0ed25d58af6c849545c3bd8f73c08cb6ac778755b16d3a65\n",
      "01dce8a5632d19799950ff90bca3b5d0ca3ebfa8aaafd06f0cc6dd1e97150e7f\n",
      "12fbc209fe1159019ea7430a315e9a73302e47fa2405888ad25270c5b71ce174\n",
      "01dce8a5632d19799950ff90bca3b5d0ca3ebfa8aaafd06f0cc6dd1e97150e7f\n",
      "b7912b3d75e8faa02fdf17a9242ce9f087fb6453b9278fb19c57fe1af6235e0c\n",
      "123a3dae88b226ea2f2771ec70919fc252fba792aab4c415f23752225bbb49b1\n",
      "6ed546c6c771ec276bfc3bfbf44dff5884d7a9fc546c0fdfd029a08a281e9a3e\n",
      "fa76ac3f7b1511bb0ed25d58af6c849545c3bd8f73c08cb6ac778755b16d3a65\n"
     ]
    },
    {
     "data": {
      "text/plain": [
       "False"
      ]
     },
     "execution_count": 11,
     "metadata": {},
     "output_type": "execute_result"
    }
   ],
   "source": [
    "in_wallet = reader.find_token_in_wallet(wallet)\n",
    "in_wallet"
   ]
  },
  {
   "cell_type": "code",
   "execution_count": 4,
   "id": "e5f32f32-6645-4b1e-82b1-4124369e7478",
   "metadata": {},
   "outputs": [],
   "source": [
    "token_description, data = reader.get_token_description()"
   ]
  },
  {
   "cell_type": "code",
   "execution_count": 5,
   "id": "fa271756-c76c-4d01-93d0-8d62a70f20c2",
   "metadata": {},
   "outputs": [
    {
     "name": "stdout",
     "output_type": "stream",
     "text": [
      "{'address': '9eg7v2nkypUZbdyvSKSD9kg8FNwrEdTrfC2xdXWXmEpDAFEtYEn', 'erg': 25, 'rsn': 75, 'minimumPayout': 10, 'description': 'This is a test token minted with Fleet SDK for the sigmanaut mining pool'}\n"
     ]
    }
   ],
   "source": [
    "import json\n",
    "\n",
    "\n",
    "dictionary = json.loads(token_description)\n",
    "\n",
    "print(dictionary)"
   ]
  },
  {
   "cell_type": "code",
   "execution_count": 6,
   "id": "e9c4c5d6-88c7-4133-924c-bc75ccfb72f5",
   "metadata": {},
   "outputs": [
    {
     "data": {
      "text/plain": [
       "{'id': 'd36cf1d772f6fa636e28e7db70aaa6a7f9baf07e4e0c1ccd79ad6dd1f625c47c',\n",
       " 'boxId': 'c173e963f7f4abced195603128dc032e3a9879545167001add7d7edc44c8f5ae',\n",
       " 'emissionAmount': 1,\n",
       " 'name': 'Sigmanaut Mining Pool Configuration NFT - Season 0',\n",
       " 'description': '{\"address\":\"9eg7v2nkypUZbdyvSKSD9kg8FNwrEdTrfC2xdXWXmEpDAFEtYEn\",\"erg\":25,\"rsn\":75,\"minimumPayout\":10,\"description\":\"This is a test token minted with Fleet SDK for the sigmanaut mining pool\"}',\n",
       " 'type': 'EIP-004',\n",
       " 'decimals': 0}"
      ]
     },
     "execution_count": 6,
     "metadata": {},
     "output_type": "execute_result"
    }
   ],
   "source": [
    "data"
   ]
  },
  {
   "cell_type": "code",
   "execution_count": 20,
   "id": "cf62a42e-620d-4a3a-bdec-473790049757",
   "metadata": {},
   "outputs": [
    {
     "ename": "ValueError",
     "evalue": "No table found in the README file.",
     "output_type": "error",
     "traceback": [
      "\u001b[0;31m---------------------------------------------------------------------------\u001b[0m",
      "\u001b[0;31mValueError\u001b[0m                                Traceback (most recent call last)",
      "Cell \u001b[0;32mIn[20], line 13\u001b[0m\n\u001b[1;32m     11\u001b[0m     table_str \u001b[38;5;241m=\u001b[39m match\u001b[38;5;241m.\u001b[39mgroup()\n\u001b[1;32m     12\u001b[0m \u001b[38;5;28;01melse\u001b[39;00m:\n\u001b[0;32m---> 13\u001b[0m     \u001b[38;5;28;01mraise\u001b[39;00m \u001b[38;5;167;01mValueError\u001b[39;00m(\u001b[38;5;124m\"\u001b[39m\u001b[38;5;124mNo table found in the README file.\u001b[39m\u001b[38;5;124m\"\u001b[39m)\n\u001b[1;32m     15\u001b[0m \u001b[38;5;66;03m# Step 3: Convert the table to a DataFrame\u001b[39;00m\n\u001b[1;32m     16\u001b[0m \u001b[38;5;66;03m# Split the table string into lines and then split each line into columns\u001b[39;00m\n\u001b[1;32m     17\u001b[0m lines \u001b[38;5;241m=\u001b[39m table_str\u001b[38;5;241m.\u001b[39mstrip()\u001b[38;5;241m.\u001b[39msplit(\u001b[38;5;124m'\u001b[39m\u001b[38;5;130;01m\\n\u001b[39;00m\u001b[38;5;124m'\u001b[39m)\n",
      "\u001b[0;31mValueError\u001b[0m: No table found in the README file."
     ]
    }
   ],
   "source": [
    "import pandas as pd\n",
    "import re\n",
    "\n",
    "with open('../Mining-Reward-Tokens/README.md', 'r') as f:\n",
    "    content = f.read()\n",
    "\n",
    "table_pattern = re.compile(r'\\|(.+\\|)+\\n\\|(-+\\|)+\\n(\\|(.+\\|)+\\n)*')\n",
    "match = table_pattern.search(content)\n",
    "\n",
    "if match:\n",
    "    table_str = match.group()\n",
    "else:\n",
    "    raise ValueError(\"No table found in the README file.\")\n",
    "\n",
    "# Step 3: Convert the table to a DataFrame\n",
    "# Split the table string into lines and then split each line into columns\n",
    "lines = table_str.strip().split('\\n')\n",
    "columns = lines[0].strip().split('|')[1:-1]  # Extract column names\n",
    "data = [line.strip().split('|')[1:-1] for line in lines[2:]]  # Extract rows\n",
    "\n",
    "# Create a DataFrame\n",
    "df = pd.DataFrame(data, columns=columns)\n",
    "\n",
    "# Display the DataFrame\n",
    "print(df)"
   ]
  },
  {
   "cell_type": "code",
   "execution_count": 16,
   "id": "3f8b65ea-b1de-4578-9805-0cdddcd4bf9c",
   "metadata": {},
   "outputs": [
    {
     "data": {
      "text/plain": [
       "\"# Mining-Reward-Tokens\\nSigmanaut Mining Pool Mining Reward Tokens\\n\\n\\nTo add a token to the list, simply create a PR that adds your token to the list. A token name should not contain whitespace, so if your token does have whitespace in the name make sure to replace/remove it. To avoid clutter in the token list add NFT's to the separate list below.\\n\\n## Supported token list\\n| Token ID | Token Name | Token decimals |\\n| --- | --- | --- |\\n| 03faf2cb329f2e90d6d23b58d91bbb6c046aa143261cc21f52fbe2824bfcbf04 | SigUSD | 2 |\\n| 8b08cdd5449a9592a9e79711d7d79249d7a03c535d17efaee83e216e80a44c4b | RSN | 3 |\\n| 01dce8a5632d19799950ff90bca3b5d0ca3ebfa8aaafd06f0cc6dd1e97150e7f | CYPX | 4 |\\n| b0b312cde931c8bbdac0dac5bfd8e2c03bf4611275dc967988c8d15bd5ec20e0 | Bober | 3 |\\n| 956bcab1ea3ed40c91bf845fe4f2dee727fe130a95f244a41a6ee7a25f14e23f | Gluon | 6 |\\n| 0cd8c9f416e5b1ca9f986a7f10a84191dfb85941619e49e53c0dc30ebf83324b | COMET | 0 |  \\n| 7a51950e5f548549ec1aa63ffdc38279505b11e7e803d01bcf8347e0123c88b0 | rsBTC | 8 |\\n\\n## Supported NFT list (Work In Progress)\\n### When applicable you will be able to mint an NFT with your hashrate\\n| Token ID | Token Name | Token decimals |\\n| --- | --- | --- |\\n\""
      ]
     },
     "execution_count": 16,
     "metadata": {},
     "output_type": "execute_result"
    }
   ],
   "source": [
    "table_data"
   ]
  },
  {
   "cell_type": "code",
   "execution_count": 50,
   "id": "1445213a-8bb2-4556-bd73-729f4054419d",
   "metadata": {},
   "outputs": [
    {
     "name": "stdout",
     "output_type": "stream",
     "text": [
      "| Token ID | Token Name | Token decimals |\n",
      "| --- | --- | --- |\n",
      "| 1 | ERGO | 0 |\n",
      "| 03faf2cb329f2e90d6d23b58d91bbb6c046aa143261cc21f52fbe2824bfcbf04 | SigUSD | 2 |\n",
      "| 8b08cdd5449a9592a9e79711d7d79249d7a03c535d17efaee83e216e80a44c4b | RSN | 3 |\n",
      "| 01dce8a5632d19799950ff90bca3b5d0ca3ebfa8aaafd06f0cc6dd1e97150e7f | CYPX | 4 |\n",
      "| b0b312cde931c8bbdac0dac5bfd8e2c03bf4611275dc967988c8d15bd5ec20e0 | Bober | 3 |\n",
      "| 956bcab1ea3ed40c91bf845fe4f2dee727fe130a95f244a41a6ee7a25f14e23f | Gluon | 6 |\n",
      "| 0cd8c9f416e5b1ca9f986a7f10a84191dfb85941619e49e53c0dc30ebf83324b | COMET | 0 |\n",
      "| 7a51950e5f548549ec1aa63ffdc38279505b11e7e803d01bcf8347e0123c88b0 | rsBTC | 8 |\n",
      "\n",
      "## Supported NFT list (Work In Progress)\n",
      "Headers: ['Token ID', 'Token Name', 'Token decimals']\n",
      "Row: ['1', 'ERGO', '0']\n",
      "Row: ['03faf2cb329f2e90d6d23b58d91bbb6c046aa143261cc21f52fbe2824bfcbf04', 'SigUSD', '2']\n",
      "Row: ['8b08cdd5449a9592a9e79711d7d79249d7a03c535d17efaee83e216e80a44c4b', 'RSN', '3']\n",
      "Row: ['01dce8a5632d19799950ff90bca3b5d0ca3ebfa8aaafd06f0cc6dd1e97150e7f', 'CYPX', '4']\n",
      "Row: ['b0b312cde931c8bbdac0dac5bfd8e2c03bf4611275dc967988c8d15bd5ec20e0', 'Bober', '3']\n",
      "Row: ['956bcab1ea3ed40c91bf845fe4f2dee727fe130a95f244a41a6ee7a25f14e23f', 'Gluon', '6']\n",
      "Row: ['0cd8c9f416e5b1ca9f986a7f10a84191dfb85941619e49e53c0dc30ebf83324b', 'COMET', '0']\n",
      "Row: ['7a51950e5f548549ec1aa63ffdc38279505b11e7e803d01bcf8347e0123c88b0', 'rsBTC', '8']\n"
     ]
    }
   ],
   "source": [
    "import re\n",
    "\n",
    "def extract_supported_tokens_table(readme_content):\n",
    "    # Define the pattern for the Supported Tokens table\n",
    "    pattern = r\"(?s)Supported token list(.+?)###\"\n",
    "    \n",
    "    # Search for the pattern in the README content\n",
    "    match = re.search(pattern, readme_content)\n",
    "    if match:\n",
    "        # Extract the table content\n",
    "        table_content = match.group(1).strip()\n",
    "        return table_content\n",
    "    else:\n",
    "        return None\n",
    "\n",
    "def parse_table(table_content):\n",
    "    # Split the content into lines\n",
    "    lines = table_content.split('\\n')\n",
    "    \n",
    "    # Extract the headers\n",
    "    headers = lines[0].strip('|').split('|')\n",
    "    headers = [header.strip() for header in headers]\n",
    "    \n",
    "    # Extract the rows\n",
    "    rows = []\n",
    "    for line in lines[2:]:\n",
    "        row = line.strip('|').split('|')\n",
    "        row = [cell.strip() for cell in row]\n",
    "        if len(headers) == len(row):\n",
    "            rows.append(row)\n",
    "    \n",
    "    return headers, rows\n",
    "\n",
    "def main():\n",
    "    # Read the README file\n",
    "    with open('../Mining-Reward-Tokens/README.md', 'r') as file:\n",
    "        readme_content = file.read()\n",
    "    \n",
    "    # Extract the Supported Tokens table\n",
    "    table_content = extract_supported_tokens_table(readme_content)\n",
    "    print(table_content)\n",
    "    \n",
    "    if table_content:\n",
    "        headers, rows = parse_table(table_content)\n",
    "        \n",
    "        # Print the headers and rows\n",
    "        print(\"Headers:\", headers)\n",
    "        for row in rows:\n",
    "            print(\"Row:\", row)\n",
    "        df = pd.DataFrame(rows, columns=headers)\n",
    "        df.to_csv('../Mining-Reward-Tokens/supported-tokens.csv')\n",
    "        return df\n",
    "    else:\n",
    "        print(\"Supported Tokens table not found in the README.\")\n",
    "        \n",
    "\n",
    "if __name__ == \"__main__\":\n",
    "    df = main()\n"
   ]
  },
  {
   "cell_type": "code",
   "execution_count": 51,
   "id": "8460012c-746b-435d-a73f-a77057bf705f",
   "metadata": {},
   "outputs": [],
   "source": [
    "df.to_csv('supported-tokens.csv')"
   ]
  },
  {
   "cell_type": "code",
   "execution_count": null,
   "id": "c84d47b3-7274-45cd-9df0-b6e289abfc0a",
   "metadata": {},
   "outputs": [],
   "source": []
  },
  {
   "cell_type": "code",
   "execution_count": null,
   "id": "7e24df51-6407-49d9-96bd-4e61a871c025",
   "metadata": {},
   "outputs": [],
   "source": []
  }
 ],
 "metadata": {
  "kernelspec": {
   "display_name": "Python 3 (ipykernel)",
   "language": "python",
   "name": "python3"
  },
  "language_info": {
   "codemirror_mode": {
    "name": "ipython",
    "version": 3
   },
   "file_extension": ".py",
   "mimetype": "text/x-python",
   "name": "python",
   "nbconvert_exporter": "python",
   "pygments_lexer": "ipython3",
   "version": "3.10.12"
  }
 },
 "nbformat": 4,
 "nbformat_minor": 5
}
