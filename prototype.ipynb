{
 "cells": [
  {
   "cell_type": "code",
   "execution_count": 1,
   "id": "bfa94de8-cd42-4439-839f-fe411e025a48",
   "metadata": {},
   "outputs": [],
   "source": [
    "import requests\n",
    "\n",
    "from utils.find_miner_id import ReadTokens"
   ]
  },
  {
   "cell_type": "markdown",
   "id": "cc2b6d5e-fac5-4080-87e2-1088f7b66f72",
   "metadata": {},
   "source": [
    "## TO DO\n",
    "\n",
    "Miners will have various NFT's in wallet and we search for the token name:\n",
    "if we find it, we grab the token-ID, we find out who minted this token, if the minter is the person who currently has the NFT we can assume this person is the miner setting their parameters."
   ]
  },
  {
   "cell_type": "code",
   "execution_count": 2,
   "id": "b68e8f14-e659-4189-baa1-64045afb15f0",
   "metadata": {},
   "outputs": [],
   "source": [
    "\n",
    "url = 'https://api.ergo.aap.cornell.edu/api/v1/boxes/byAddress'\n",
    "# url = 'https://api.ergoplatform.com/api/v1/boxes/byTokenId/'\n",
    "token_id = '5104822ac703509fb6790961d8d2b4afa4c75b9514abfd48ca8bf83639d30574'\n",
    "wallet = '9ehJZvPDgvCNNd2zTQHxnSpcCAtb1kHbEN1VAgeoRD5DPVApYkk'\n",
    "# wallet = '9eg7v2nkypUZbdyvSKSD9kg8FNwrEdTrfC2xdXWXmEpDAFEtYEn'\n",
    "\n",
    "find_tokens = ReadTokens(url)\n"
   ]
  },
  {
   "cell_type": "code",
   "execution_count": 3,
   "id": "53a142c9-fe15-408b-8eae-3315998ba67d",
   "metadata": {
    "scrolled": true
   },
   "outputs": [
    {
     "data": {
      "text/plain": [
       "[{'tokenId': 'a24b57a4b9a8122a52c5d92a6250b7ed5df134e660f3e3946770858a3fc46eb7',\n",
       "  'amount': 1,\n",
       "  'decimals': 0,\n",
       "  'name': 'Sigmanaut Mining Pool Miner ID - Season 0'},\n",
       " {'tokenId': '5104822ac703509fb6790961d8d2b4afa4c75b9514abfd48ca8bf83639d30574',\n",
       "  'amount': 1,\n",
       "  'decimals': 0,\n",
       "  'name': 'Sigmanaut Mining Pool Miner ID - Season 0'}]"
      ]
     },
     "execution_count": 3,
     "metadata": {},
     "output_type": "execute_result"
    }
   ],
   "source": [
    "tokens = find_tokens.find_token_name_in_wallet(wallet, 'Sigmanaut Mining Pool Miner ID - Season 0')\n",
    "tokens"
   ]
  },
  {
   "cell_type": "code",
   "execution_count": 31,
   "id": "2d7198cf-3cb8-4fcb-b5c7-52fa65141dcd",
   "metadata": {},
   "outputs": [
    {
     "name": "stdout",
     "output_type": "stream",
     "text": [
      "1290242\n",
      "1290164\n",
      "1291051\n"
     ]
    }
   ],
   "source": [
    "ls = []\n",
    "\n",
    "for token in tokens:\n",
    "    \n",
    "    # url = 'https://api.ergoplatform.com/api/v1/boxes/byTokenId/a24b57a4b9a8122a52c5d92a6250b7ed5df134e660f3e3946770858a3fc46eb7'\n",
    "    # url = 'https://api.ergoplatform.com/api/v1/boxes/byTokenId/5104822ac703509fb6790961d8d2b4afa4c75b9514abfd48ca8bf83639d30574'\n",
    "    url = 'https://api.ergoplatform.com/api/v1/boxes/byTokenId'\n",
    "    url = '{}/{}'.format(url, token['tokenId'])\n",
    "    data = find_tokens.get_api_data(url)\n",
    "    \n",
    "    # first want want to check all the boxes that this given token is in, should generally be one unless someone sent the current user one\n",
    "    oldest_height = 1e30 #arbitray height that is very large\n",
    "    for item in data['items']:\n",
    "        print(item['creationHeight'])\n",
    "        if oldest_height > item['creationHeight']:\n",
    "            oldest_height = item['creationHeight']\n",
    "            mint_address = item['address']\n",
    "            if mint_address != wallet: # tell us that this box is not from this current wallet so we dont care about this box\n",
    "                continue\n",
    "            ls.append([token ,item['boxId'], item['creationHeight'], item['transactionId'], item['address']])\n",
    "        # ls.append([item['boxId'], item['creationHeight'], item['transactionId'], item['address']])\n",
    "    \n",
    "# tx = ls[2] # this is the tx\n",
    "# url = 'https://api.ergoplatform.com/api/v1/transactions'\n",
    "# tx_url = '{}/{}'.format(url, tx)\n",
    "# data = find_tokens.get_api_data(tx_url)\n",
    "# box_id_first_input = data['inputs'][0]['boxId']\n",
    "# outputs = data['outputs']\n",
    "\n",
    "# for sample in outputs:\n",
    "#     assets = sample['assets'][0]\n",
    "#     if assets['tokenId'] == box_id_first_input:\n",
    "#         minting_address = sample['address']\n",
    "#         break\n",
    "\n",
    "# if minting_address == wallet:\n",
    "#     print(minting_address)\n",
    "#     current_id = token\n",
    "#     break\n",
    "# current_id"
   ]
  },
  {
   "cell_type": "code",
   "execution_count": 32,
   "id": "26b2f5b9-207c-4076-a3a9-39c7e2b4b637",
   "metadata": {},
   "outputs": [
    {
     "data": {
      "text/plain": [
       "[[{'tokenId': 'a24b57a4b9a8122a52c5d92a6250b7ed5df134e660f3e3946770858a3fc46eb7',\n",
       "   'amount': 1,\n",
       "   'decimals': 0,\n",
       "   'name': 'Sigmanaut Mining Pool Miner ID - Season 0'},\n",
       "  '01ec646524f02b58d57e9a3eb9348ef585baadbfa646ed7a05939dd427cd38b7',\n",
       "  1290242,\n",
       "  '83626102ed1249872190ffb7c5bf33375ed2c27d0bec2c93db5897b19a31abd0',\n",
       "  '9ehJZvPDgvCNNd2zTQHxnSpcCAtb1kHbEN1VAgeoRD5DPVApYkk']]"
      ]
     },
     "execution_count": 32,
     "metadata": {},
     "output_type": "execute_result"
    }
   ],
   "source": [
    "ls"
   ]
  },
  {
   "cell_type": "code",
   "execution_count": 7,
   "id": "d30da6e1-a886-4f2a-9922-cbff4a9c17e8",
   "metadata": {},
   "outputs": [
    {
     "data": {
      "text/plain": [
       "'9ehJZvPDgvCNNd2zTQHxnSpcCAtb1kHbEN1VAgeoRD5DPVApYkk'"
      ]
     },
     "execution_count": 7,
     "metadata": {},
     "output_type": "execute_result"
    }
   ],
   "source": []
  },
  {
   "cell_type": "code",
   "execution_count": 8,
   "id": "7d6f3315-dce3-466e-888a-9164b99f03d9",
   "metadata": {},
   "outputs": [
    {
     "data": {
      "text/plain": [
       "[{'boxId': '01ec646524f02b58d57e9a3eb9348ef585baadbfa646ed7a05939dd427cd38b7',\n",
       "  'transactionId': '83626102ed1249872190ffb7c5bf33375ed2c27d0bec2c93db5897b19a31abd0',\n",
       "  'blockId': '6daaad973a8b1991bf376aac902b59b015971151c227bc95d6ff0c1fb3cc14b1',\n",
       "  'value': 1000000,\n",
       "  'index': 0,\n",
       "  'globalIndex': 6461185,\n",
       "  'creationHeight': 1290242,\n",
       "  'settlementHeight': 1290244,\n",
       "  'ergoTree': '0008cd021741a3123c5940a6d72189d0cab8f1a10c3a8ace6bc5bec0b3557dc0749dce66',\n",
       "  'ergoTreeConstants': '',\n",
       "  'ergoTreeScript': '{SigmaProp(ProveDlog(ECPoint(1741a3,746f70,...)))}',\n",
       "  'address': '9ehJZvPDgvCNNd2zTQHxnSpcCAtb1kHbEN1VAgeoRD5DPVApYkk',\n",
       "  'assets': [{'tokenId': 'a24b57a4b9a8122a52c5d92a6250b7ed5df134e660f3e3946770858a3fc46eb7',\n",
       "    'index': 0,\n",
       "    'amount': 1,\n",
       "    'name': 'Sigmanaut Mining Pool Miner ID - Season 0',\n",
       "    'decimals': 0,\n",
       "    'type': 'EIP-004'}],\n",
       "  'additionalRegisters': {'R4': {'serializedValue': '0e295369676d616e617574204d696e696e6720506f6f6c204d696e6572204944202d20536561736f6e2030',\n",
       "    'sigmaType': 'Coll[SByte]',\n",
       "    'renderedValue': '5369676d616e617574204d696e696e6720506f6f6c204d696e6572204944202d20536561736f6e2030'},\n",
       "   'R5': {'serializedValue': '0ef4017b2261646472657373223a223965684a5a7650446776434e4e64327a545148786e53706343417462316b4862454e31564167656f5244354450564170596b6b222c22686569676874223a313239303234322c226d696e696d756d5061796f7574223a31332c22746f6b656e73223a5b7b22746f6b656e223a224552474f222c2276616c7565223a37357d2c7b22746f6b656e223a227273425443222c2276616c7565223a31357d2c7b22746f6b656e223a22536967555344222c2276616c7565223a31307d5d2c22736561736f6e223a302c2274797065223a224d696e6572204944222c2266616e5f636c7562223a225158227d',\n",
       "    'sigmaType': 'Coll[SByte]',\n",
       "    'renderedValue': '7b2261646472657373223a223965684a5a7650446776434e4e64327a545148786e53706343417462316b4862454e31564167656f5244354450564170596b6b222c22686569676874223a313239303234322c226d696e696d756d5061796f7574223a31332c22746f6b656e73223a5b7b22746f6b656e223a224552474f222c2276616c7565223a37357d2c7b22746f6b656e223a227273425443222c2276616c7565223a31357d2c7b22746f6b656e223a22536967555344222c2276616c7565223a31307d5d2c22736561736f6e223a302c2274797065223a224d696e6572204944222c2266616e5f636c7562223a225158227d'},\n",
       "   'R6': {'serializedValue': '0e0130',\n",
       "    'sigmaType': 'Coll[SByte]',\n",
       "    'renderedValue': '30'}},\n",
       "  'spentTransactionId': None,\n",
       "  'mainChain': True},\n",
       " {'boxId': '294b37e67c88d9ef3fdc6b2a9e8b9bc967635d3f878649a7e00d1b494079a7c9',\n",
       "  'transactionId': '83626102ed1249872190ffb7c5bf33375ed2c27d0bec2c93db5897b19a31abd0',\n",
       "  'blockId': '6daaad973a8b1991bf376aac902b59b015971151c227bc95d6ff0c1fb3cc14b1',\n",
       "  'value': 1100000,\n",
       "  'index': 1,\n",
       "  'globalIndex': 6461186,\n",
       "  'creationHeight': 1290242,\n",
       "  'settlementHeight': 1290244,\n",
       "  'ergoTree': '1005040004000e36100204a00b08cd0279be667ef9dcbbac55a06295ce870b07029bfcdb2dce28d959f2815b16f81798ea02d192a39a8cc7a701730073011001020402d19683030193a38cc7b2a57300000193c2b2a57301007473027303830108cdeeac93b1a57304',\n",
       "  'ergoTreeConstants': '0: 0\\n1: 0\\n2: Coll(16,2,4,-96,11,8,-51,2,121,-66,102,126,-7,-36,-69,-84,85,-96,98,-107,-50,-121,11,7,2,-101,-4,-37,45,-50,40,-39,89,-14,-127,91,22,-8,23,-104,-22,2,-47,-110,-93,-102,-116,-57,-89,1,115,0,115,1)\\n3: Coll(1)\\n4: 1',\n",
       "  'ergoTreeScript': '{sigmaProp(\\n  allOf(\\n    Coll[Boolean](\\n      HEIGHT == OUTPUTS(placeholder[Int](0)).creationInfo._1, OUTPUTS(placeholder[Int](1)).propositionBytes == substConstants(\\n        placeholder[Coll[Byte]](2), placeholder[Coll[Int]](3), Coll[SigmaProp](proveDlog(decodePoint(minerPubKey)))\\n      ), OUTPUTS.size == placeholder[Int](4)\\n    )\\n  )\\n)}',\n",
       "  'address': '2iHkR7CWvD1R4j1yZg5bkeDRQavjAaVPeTDFGGLZduHyfWMuYpmhHocX8GJoaieTx78FntzJbCBVL6rf96ocJoZdmWBL2fci7NqWgAirppPQmZ7fN9V6z13Ay6brPriBKYqLp1bT2Fk4FkFLCfdPpe',\n",
       "  'assets': [],\n",
       "  'additionalRegisters': {},\n",
       "  'spentTransactionId': 'ce68db4feb8cef36492195fcaef4d365bef90e892070ac6b6defbcde3f85d68b',\n",
       "  'mainChain': True},\n",
       " {'boxId': 'de3017fc81daad845a2dc71c2333ed088c14c00a1393853bbbdf1c702af73f72',\n",
       "  'transactionId': '83626102ed1249872190ffb7c5bf33375ed2c27d0bec2c93db5897b19a31abd0',\n",
       "  'blockId': '6daaad973a8b1991bf376aac902b59b015971151c227bc95d6ff0c1fb3cc14b1',\n",
       "  'value': 150504165050,\n",
       "  'index': 2,\n",
       "  'globalIndex': 6461187,\n",
       "  'creationHeight': 1290242,\n",
       "  'settlementHeight': 1290244,\n",
       "  'ergoTree': '0008cd021741a3123c5940a6d72189d0cab8f1a10c3a8ace6bc5bec0b3557dc0749dce66',\n",
       "  'ergoTreeConstants': '',\n",
       "  'ergoTreeScript': '{SigmaProp(ProveDlog(ECPoint(1741a3,746f70,...)))}',\n",
       "  'address': '9ehJZvPDgvCNNd2zTQHxnSpcCAtb1kHbEN1VAgeoRD5DPVApYkk',\n",
       "  'assets': [{'tokenId': '9a06d9e545a41fd51eeffc5e20d818073bf820c635e2a9d922269913e0de369d',\n",
       "    'index': 0,\n",
       "    'amount': 35322753,\n",
       "    'name': 'SPF',\n",
       "    'decimals': 6,\n",
       "    'type': 'EIP-004'},\n",
       "   {'tokenId': '089990451bb430f05a85f4ef3bcb6ebf852b3d6ee68d86d78658b9ccef20074f',\n",
       "    'index': 1,\n",
       "    'amount': 81058966,\n",
       "    'name': 'QUACKS',\n",
       "    'decimals': 6,\n",
       "    'type': 'EIP-004'}],\n",
       "  'additionalRegisters': {},\n",
       "  'spentTransactionId': None,\n",
       "  'mainChain': True}]"
      ]
     },
     "execution_count": 8,
     "metadata": {},
     "output_type": "execute_result"
    }
   ],
   "source": [
    "outputs"
   ]
  },
  {
   "cell_type": "code",
   "execution_count": null,
   "id": "6b0fad14-edc6-427b-94a6-ae7ee06f0bd9",
   "metadata": {},
   "outputs": [],
   "source": []
  }
 ],
 "metadata": {
  "kernelspec": {
   "display_name": "Python 3 (ipykernel)",
   "language": "python",
   "name": "python3"
  },
  "language_info": {
   "codemirror_mode": {
    "name": "ipython",
    "version": 3
   },
   "file_extension": ".py",
   "mimetype": "text/x-python",
   "name": "python",
   "nbconvert_exporter": "python",
   "pygments_lexer": "ipython3",
   "version": "3.10.12"
  }
 },
 "nbformat": 4,
 "nbformat_minor": 5
}
